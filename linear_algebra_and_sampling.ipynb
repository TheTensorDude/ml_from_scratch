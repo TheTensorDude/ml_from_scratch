{
 "cells": [
  {
   "cell_type": "code",
   "execution_count": 89,
   "id": "e06459ec",
   "metadata": {},
   "outputs": [],
   "source": [
    "from math import sqrt"
   ]
  },
  {
   "cell_type": "code",
   "execution_count": 90,
   "id": "47484907",
   "metadata": {},
   "outputs": [
    {
     "data": {
      "text/plain": [
       "[3, 2]"
      ]
     },
     "execution_count": 90,
     "metadata": {},
     "output_type": "execute_result"
    }
   ],
   "source": [
    "def get_shape(a):\n",
    "    return [len(a), len(a[0])]\n",
    "\n",
    "a = [\n",
    "    [1, 2],\n",
    "    [4, 5],\n",
    "    [7, 8]\n",
    "]\n",
    "\n",
    "get_shape(a)"
   ]
  },
  {
   "cell_type": "code",
   "execution_count": 91,
   "id": "601b3e33",
   "metadata": {},
   "outputs": [
    {
     "data": {
      "text/plain": [
       "3.7416573867739413"
      ]
     },
     "execution_count": 91,
     "metadata": {},
     "output_type": "execute_result"
    }
   ],
   "source": [
    "def distance_from_origin(a):\n",
    "    return sqrt(sum([ia ** 2 for ia in a]))\n",
    "\n",
    "a = [1, 2, 3]\n",
    "distance_from_origin(a)"
   ]
  },
  {
   "cell_type": "code",
   "execution_count": 92,
   "id": "0a623177",
   "metadata": {},
   "outputs": [
    {
     "data": {
      "text/plain": [
       "5.196152422706632"
      ]
     },
     "execution_count": 92,
     "metadata": {},
     "output_type": "execute_result"
    }
   ],
   "source": [
    "def distance_between(a, b):\n",
    "    return sqrt(sum([(ia - ib) ** 2 for ia, ib in zip(a, b)]))\n",
    "\n",
    "a = [1, 2, 3]\n",
    "b = [4, 5, 6]\n",
    "distance_between(a, b)"
   ]
  },
  {
   "cell_type": "code",
   "execution_count": 93,
   "id": "584d9ccb",
   "metadata": {},
   "outputs": [
    {
     "data": {
      "text/plain": [
       "[0.2672612419124244, 0.5345224838248488, 0.8017837257372732]"
      ]
     },
     "execution_count": 93,
     "metadata": {},
     "output_type": "execute_result"
    }
   ],
   "source": [
    "def unit_vector(w):\n",
    "    return [iw / distance_from_origin(w) for iw in w]\n",
    "\n",
    "w = [1, 2, 3]\n",
    "unit_vector(w)"
   ]
  },
  {
   "cell_type": "code",
   "execution_count": 94,
   "id": "200135dd",
   "metadata": {},
   "outputs": [
    {
     "data": {
      "text/plain": [
       "[[1, 4, 7], [2, 5, 8]]"
      ]
     },
     "execution_count": 94,
     "metadata": {},
     "output_type": "execute_result"
    }
   ],
   "source": [
    "def transpose(a):\n",
    "    a_transpose = []\n",
    "    for icol in range(len(a[0])):\n",
    "        a_transpose.append([])\n",
    "        for irow in range(len(a)):\n",
    "            # irow variable and icol static for an iteration\n",
    "            a_transpose[icol].append(a[irow][icol])\n",
    "    return a_transpose\n",
    "            \n",
    "            \n",
    "a = [\n",
    "    [1, 2],\n",
    "    [4, 5],\n",
    "    [7, 8]\n",
    "]\n",
    "    \n",
    "transpose(a)            "
   ]
  },
  {
   "cell_type": "markdown",
   "id": "90313623",
   "metadata": {},
   "source": [
    "\n",
    "<h3> Q: Given two matrices please print the product of those two matrices </h3>\n",
    "<pre>\n",
    "\n",
    "Ex 1: A   = [[1 3 4]\n",
    "             [2 5 7]\n",
    "             [5 9 6]]\n",
    "      B   = [[1 0 0]\n",
    "             [0 1 0]\n",
    "             [0 0 1]]\n",
    "      A*B = [[1 3 4]\n",
    "             [2 5 7]\n",
    "             [5 9 6]]\n",
    "\n",
    "     \n",
    "Ex 2: A   = [[1 2]\n",
    "             [3 4]]\n",
    "      B   = [[1 2 3 4 5]\n",
    "             [5 6 7 8 9]]\n",
    "      A*B = [[11 14 17 20 23]\n",
    "             [23 30 37 44 51]]\n",
    "             \n",
    "Ex 3: A   = [[1 2]\n",
    "             [3 4]]\n",
    "      B   = [[1 4]\n",
    "             [5 6]\n",
    "             [7 8]\n",
    "             [9 6]]\n",
    "      A*B =Not possible\n",
    "</pre>"
   ]
  },
  {
   "cell_type": "code",
   "execution_count": 61,
   "id": "3beb16d9",
   "metadata": {},
   "outputs": [],
   "source": [
    "def dot_product(a, b):\n",
    "    \"\"\"\n",
    "    Performs dot product given two vectors\n",
    "    \"\"\"\n",
    "    assert len(a) ==  len(b), \"Dot product not possible\"\n",
    "    return sum([ia * ib for ia, ib in zip(a, b)])\n",
    "\n",
    "def matmul(a, b):\n",
    "    result = []\n",
    "    # Iterate through the rows of a\n",
    "    for irow, a_row in enumerate(a):\n",
    "        # Dot products will be appended with corresponding rows\n",
    "        result.append([])\n",
    "        # Iterate through the columns first\n",
    "        for jcol in range(len(b[0])):\n",
    "            b_col = []\n",
    "            # Secondly iterate through the rows\n",
    "            # Will complete iterating row first and column second\n",
    "            for jrow in range(len(b)):\n",
    "                b_col.append(b[jrow][jcol])\n",
    "            # Peforming dot product\n",
    "            dot_ab = dot_product(a_row, b_col)\n",
    "            # appending the dot product\n",
    "            result[irow].append(dot_ab)\n",
    "    return result"
   ]
  },
  {
   "cell_type": "code",
   "execution_count": 62,
   "id": "85c4a90c",
   "metadata": {},
   "outputs": [
    {
     "data": {
      "text/plain": [
       "[[1, 3, 4], [2, 5, 7], [5, 9, 6]]"
      ]
     },
     "execution_count": 62,
     "metadata": {},
     "output_type": "execute_result"
    }
   ],
   "source": [
    "A   = [\n",
    "        [1, 3, 4],\n",
    "        [2, 5, 7],\n",
    "        [5, 9, 6]\n",
    "    ]\n",
    "\n",
    "B   = [\n",
    "        [1, 0, 0],\n",
    "        [0, 1, 0],\n",
    "        [0, 0, 1]\n",
    "    ]\n",
    "\n",
    "matmul(A, B)"
   ]
  },
  {
   "cell_type": "code",
   "execution_count": 63,
   "id": "8e0d4156",
   "metadata": {},
   "outputs": [
    {
     "data": {
      "text/plain": [
       "[[11, 14, 17, 20, 23], [23, 30, 37, 44, 51]]"
      ]
     },
     "execution_count": 63,
     "metadata": {},
     "output_type": "execute_result"
    }
   ],
   "source": [
    "A   = [\n",
    "    [1, 2],\n",
    "    [3, 4]\n",
    "]\n",
    "B   = [\n",
    "    [1, 2, 3, 4, 5],\n",
    "    [5, 6, 7, 8, 9]\n",
    "]\n",
    "\n",
    "matmul(A, B)"
   ]
  },
  {
   "cell_type": "code",
   "execution_count": 65,
   "id": "79bb7072",
   "metadata": {},
   "outputs": [
    {
     "ename": "AssertionError",
     "evalue": "Dot product not possible",
     "output_type": "error",
     "traceback": [
      "\u001b[0;31m---------------------------------------------------------------------------\u001b[0m",
      "\u001b[0;31mAssertionError\u001b[0m                            Traceback (most recent call last)",
      "\u001b[0;32m<ipython-input-65-db482c7063e5>\u001b[0m in \u001b[0;36m<module>\u001b[0;34m\u001b[0m\n\u001b[1;32m     10\u001b[0m ]\n\u001b[1;32m     11\u001b[0m \u001b[0;34m\u001b[0m\u001b[0m\n\u001b[0;32m---> 12\u001b[0;31m \u001b[0mmatmul\u001b[0m\u001b[0;34m(\u001b[0m\u001b[0mA\u001b[0m\u001b[0;34m,\u001b[0m \u001b[0mB\u001b[0m\u001b[0;34m)\u001b[0m\u001b[0;34m\u001b[0m\u001b[0;34m\u001b[0m\u001b[0m\n\u001b[0m",
      "\u001b[0;32m<ipython-input-61-20f98e5b92a8>\u001b[0m in \u001b[0;36mmatmul\u001b[0;34m(a, b)\u001b[0m\n\u001b[1;32m     20\u001b[0m                 \u001b[0mb_col\u001b[0m\u001b[0;34m.\u001b[0m\u001b[0mappend\u001b[0m\u001b[0;34m(\u001b[0m\u001b[0mb\u001b[0m\u001b[0;34m[\u001b[0m\u001b[0mjrow\u001b[0m\u001b[0;34m]\u001b[0m\u001b[0;34m[\u001b[0m\u001b[0mjcol\u001b[0m\u001b[0;34m]\u001b[0m\u001b[0;34m)\u001b[0m\u001b[0;34m\u001b[0m\u001b[0;34m\u001b[0m\u001b[0m\n\u001b[1;32m     21\u001b[0m             \u001b[0;31m# Peforming dot product\u001b[0m\u001b[0;34m\u001b[0m\u001b[0;34m\u001b[0m\u001b[0;34m\u001b[0m\u001b[0m\n\u001b[0;32m---> 22\u001b[0;31m             \u001b[0mdot_ab\u001b[0m \u001b[0;34m=\u001b[0m \u001b[0mdot_product\u001b[0m\u001b[0;34m(\u001b[0m\u001b[0ma_row\u001b[0m\u001b[0;34m,\u001b[0m \u001b[0mb_col\u001b[0m\u001b[0;34m)\u001b[0m\u001b[0;34m\u001b[0m\u001b[0;34m\u001b[0m\u001b[0m\n\u001b[0m\u001b[1;32m     23\u001b[0m             \u001b[0;31m# appending the dot product\u001b[0m\u001b[0;34m\u001b[0m\u001b[0;34m\u001b[0m\u001b[0;34m\u001b[0m\u001b[0m\n\u001b[1;32m     24\u001b[0m             \u001b[0mresult\u001b[0m\u001b[0;34m[\u001b[0m\u001b[0mirow\u001b[0m\u001b[0;34m]\u001b[0m\u001b[0;34m.\u001b[0m\u001b[0mappend\u001b[0m\u001b[0;34m(\u001b[0m\u001b[0mdot_ab\u001b[0m\u001b[0;34m)\u001b[0m\u001b[0;34m\u001b[0m\u001b[0;34m\u001b[0m\u001b[0m\n",
      "\u001b[0;32m<ipython-input-61-20f98e5b92a8>\u001b[0m in \u001b[0;36mdot_product\u001b[0;34m(a, b)\u001b[0m\n\u001b[1;32m      3\u001b[0m     \u001b[0mPerforms\u001b[0m \u001b[0mdot\u001b[0m \u001b[0mproduct\u001b[0m \u001b[0mgiven\u001b[0m \u001b[0mtwo\u001b[0m \u001b[0mvectors\u001b[0m\u001b[0;34m\u001b[0m\u001b[0;34m\u001b[0m\u001b[0m\n\u001b[1;32m      4\u001b[0m     \"\"\"\n\u001b[0;32m----> 5\u001b[0;31m     \u001b[0;32massert\u001b[0m \u001b[0mlen\u001b[0m\u001b[0;34m(\u001b[0m\u001b[0ma\u001b[0m\u001b[0;34m)\u001b[0m \u001b[0;34m==\u001b[0m  \u001b[0mlen\u001b[0m\u001b[0;34m(\u001b[0m\u001b[0mb\u001b[0m\u001b[0;34m)\u001b[0m\u001b[0;34m,\u001b[0m \u001b[0;34m\"Dot product not possible\"\u001b[0m\u001b[0;34m\u001b[0m\u001b[0;34m\u001b[0m\u001b[0m\n\u001b[0m\u001b[1;32m      6\u001b[0m     \u001b[0;32mreturn\u001b[0m \u001b[0msum\u001b[0m\u001b[0;34m(\u001b[0m\u001b[0;34m[\u001b[0m\u001b[0mia\u001b[0m \u001b[0;34m*\u001b[0m \u001b[0mib\u001b[0m \u001b[0;32mfor\u001b[0m \u001b[0mia\u001b[0m\u001b[0;34m,\u001b[0m \u001b[0mib\u001b[0m \u001b[0;32min\u001b[0m \u001b[0mzip\u001b[0m\u001b[0;34m(\u001b[0m\u001b[0ma\u001b[0m\u001b[0;34m,\u001b[0m \u001b[0mb\u001b[0m\u001b[0;34m)\u001b[0m\u001b[0;34m]\u001b[0m\u001b[0;34m)\u001b[0m\u001b[0;34m\u001b[0m\u001b[0;34m\u001b[0m\u001b[0m\n\u001b[1;32m      7\u001b[0m \u001b[0;34m\u001b[0m\u001b[0m\n",
      "\u001b[0;31mAssertionError\u001b[0m: Dot product not possible"
     ]
    }
   ],
   "source": [
    "A   = [\n",
    "    [1, 2],\n",
    "    [3, 4]\n",
    "]\n",
    "B   = [\n",
    "    [1, 4],\n",
    "    [5, 6],\n",
    "    [7, 8],\n",
    "    [9, 6]\n",
    "]\n",
    "\n",
    "matmul(A, B)"
   ]
  },
  {
   "cell_type": "markdown",
   "id": "247578f7",
   "metadata": {},
   "source": [
    "<h3> Q: Proportional Sampling - Select a number randomly with probability proportional to its magnitude from the given array of n elements</h3>\n",
    "\n",
    "Consider an experiment, selecting an element from the list A randomly with probability proportional to its magnitude.\n",
    "assume we are doing the same experiment for 100 times with replacement, in each experiment you will print a number that is selected randomly from A.\n",
    "\n",
    "<pre>\n",
    "Ex 1: A = [0 5 27 6 13 28 100 45 10 79]\n",
    "let f(x) denote the number of times x getting selected in 100 experiments.\n",
    "f(100) > f(79) > f(45) > f(28) > f(27) > f(13) > f(10) > f(6) > f(5) > f(0)\n",
    "</pre>"
   ]
  },
  {
   "cell_type": "code",
   "execution_count": 106,
   "id": "be925fa2",
   "metadata": {},
   "outputs": [],
   "source": [
    "def get_prefix_sum(arr):\n",
    "    prefix_sum = [arr[0]]\n",
    "    for i in range(1, len(arr)):\n",
    "        prefix_sum.append(prefix_sum[i - 1] + arr[i])\n",
    "    return prefix_sum"
   ]
  },
  {
   "cell_type": "code",
   "execution_count": 113,
   "id": "77385137",
   "metadata": {},
   "outputs": [],
   "source": [
    "from numpy.random import uniform\n",
    "\n",
    "# Proportional sampling is used in Kmeans++ for initalizing the centroids\n",
    "def proportional_sampling(rv, k):\n",
    "    summation = sum(rv)\n",
    "    normalized_rv = [irv / summation for irv in rv]\n",
    "    cumul = get_prefix_sum(normalized_rv)\n",
    "    r = uniform(0.0, 1.0, k)\n",
    "    samples = []\n",
    "    for ir in r:\n",
    "        for index, icum in enumerate(cumul):\n",
    "            if ir <= icum:\n",
    "                samples.append(rv[index])\n",
    "                break\n",
    "    return samples"
   ]
  },
  {
   "cell_type": "code",
   "execution_count": 115,
   "id": "9b0c15dc",
   "metadata": {},
   "outputs": [
    {
     "data": {
      "text/plain": [
       "[79, 45, 28, 10, 45, 28, 45, 45, 100, 45]"
      ]
     },
     "execution_count": 115,
     "metadata": {},
     "output_type": "execute_result"
    }
   ],
   "source": [
    "A = [0, 5, 27, 6, 13, 28, 100, 45, 10, 79]\n",
    "proportional_sampling(A, 10)"
   ]
  },
  {
   "cell_type": "code",
   "execution_count": 116,
   "id": "68f0fdf2",
   "metadata": {},
   "outputs": [],
   "source": [
    "# Follow up: can we optimise using BinarySearch?"
   ]
  },
  {
   "cell_type": "code",
   "execution_count": null,
   "id": "32c7daff",
   "metadata": {},
   "outputs": [],
   "source": []
  }
 ],
 "metadata": {
  "kernelspec": {
   "display_name": "ai",
   "language": "python",
   "name": "ai"
  },
  "language_info": {
   "codemirror_mode": {
    "name": "ipython",
    "version": 3
   },
   "file_extension": ".py",
   "mimetype": "text/x-python",
   "name": "python",
   "nbconvert_exporter": "python",
   "pygments_lexer": "ipython3",
   "version": "3.6.13"
  }
 },
 "nbformat": 4,
 "nbformat_minor": 5
}
