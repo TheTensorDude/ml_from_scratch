{
 "cells": [
  {
   "cell_type": "code",
   "execution_count": 1,
   "id": "f206c382",
   "metadata": {},
   "outputs": [],
   "source": [
    "import numpy as np\n",
    "import matplotlib.pyplot as plt \n",
    "from sklearn.datasets import load_digits"
   ]
  },
  {
   "cell_type": "code",
   "execution_count": 2,
   "id": "3781d9c6",
   "metadata": {},
   "outputs": [
    {
     "name": "stdout",
     "output_type": "stream",
     "text": [
      "MNIST dataset loaded.\n",
      "Shape of MNIST (1797, 64)\n"
     ]
    }
   ],
   "source": [
    "mnist_small = load_digits()\n",
    "print(\"MNIST dataset loaded.\")\n",
    "\n",
    "# Each image is a 8x8 image\n",
    "print(\"Shape of MNIST\", mnist_small[\"data\"].shape)"
   ]
  },
  {
   "cell_type": "code",
   "execution_count": 3,
   "id": "47829fdc",
   "metadata": {},
   "outputs": [
    {
     "name": "stdout",
     "output_type": "stream",
     "text": [
      "Target: 1\n"
     ]
    },
    {
     "data": {
      "image/png": "[encoded data removed]",
      "text/plain": [
       "<Figure size 640x480 with 1 Axes>"
      ]
     },
     "metadata": {},
     "output_type": "display_data"
    }
   ],
   "source": [
    "index = 80\n",
    "\n",
    "digit = mnist_small[\"data\"][index].reshape(8, 8)\n",
    "plt.imshow(digit, cmap = \"gray\");\n",
    "\n",
    "print(\"Target:\", mnist_small[\"target\"][index])"
   ]
  },
  {
   "cell_type": "markdown",
   "id": "7fbf74cd",
   "metadata": {},
   "source": [
    "# Feature Engineering "
   ]
  },
  {
   "cell_type": "markdown",
   "id": "0ddc0a50",
   "metadata": {},
   "source": [
    "## [ Train-test split ]"
   ]
  },
  {
   "cell_type": "code",
   "execution_count": 4,
   "id": "f214cbe7",
   "metadata": {},
   "outputs": [],
   "source": [
    "def train_test_split(X, y, test_size=0.20):\n",
    "    length = len(X)\n",
    "    assert length == len(y), \"Lengths do not match\"\n",
    "\n",
    "    # Training index\n",
    "    train_split_idx = int(length * (1 - test_size))\n",
    "\n",
    "    # Indices for test and validation\n",
    "    slide = int(length * (test_size / 2))\n",
    "    val_split_idx = train_split_idx + slide\n",
    "    test_split_idx = val_split_idx + slide\n",
    "\n",
    "    train_X, train_y = X[:train_split_idx], y[:train_split_idx]\n",
    "    val_X, val_y = X[train_split_idx:val_split_idx], y[train_split_idx:val_split_idx]\n",
    "    test_X, test_y = X[val_split_idx:test_split_idx], y[val_split_idx:test_split_idx]\n",
    "\n",
    "    return (train_X, train_y), (val_X, val_y), (test_X, test_y)"
   ]
  },
  {
   "cell_type": "code",
   "execution_count": 5,
   "id": "f52366ea",
   "metadata": {},
   "outputs": [],
   "source": [
    "X = mnist_small[\"data\"]\n",
    "y = mnist_small[\"target\"]"
   ]
  },
  {
   "cell_type": "code",
   "execution_count": 6,
   "id": "7bd1a6a5",
   "metadata": {},
   "outputs": [
    {
     "name": "stdout",
     "output_type": "stream",
     "text": [
      "Training data shapes - X_train: (1437, 64), y_train: 1437\n",
      "Validation data shapes - X_val: (179, 64), y_val: 179\n",
      "Testing data shapes - X_test: (179, 64), y_test: 179\n"
     ]
    }
   ],
   "source": [
    "# training dataset will be used for computing distances\n",
    "# valiation dataset for hyperparameter tuning : For finding the right K\n",
    "# test dataset: Unseen data -> model evaluation\n",
    "train_dataset, val_dataset, test_dataset = train_test_split(X, y)\n",
    "\n",
    "X_train, y_train = train_dataset\n",
    "X_val, y_val = val_dataset\n",
    "X_test, y_test = test_dataset\n",
    "\n",
    "print(\"Training data shapes - X_train: {}, y_train: {}\".format(X_train.shape, len(y_train)))\n",
    "print(\"Validation data shapes - X_val: {}, y_val: {}\".format(X_val.shape, len(y_val)))\n",
    "print(\"Testing data shapes - X_test: {}, y_test: {}\".format(X_test.shape, len(y_test)))"
   ]
  },
  {
   "cell_type": "markdown",
   "id": "7583a9db",
   "metadata": {},
   "source": [
    "## [ Standard scaler ]\n",
    "\n",
    "All the features should be in same scale, so scaling is necessary! We do not want any feature to dominate over the other one."
   ]
  },
  {
   "cell_type": "code",
   "execution_count": 7,
   "id": "07044523",
   "metadata": {},
   "outputs": [],
   "source": [
    "class StandardScaler:\n",
    "    def __init__(self, mean = None, standard_dev = None, eps = 0.00001):\n",
    "        self.mean = mean\n",
    "        self.eps = eps\n",
    "        self.standard_dev = standard_dev\n",
    "    \n",
    "    def fit(self, X):\n",
    "        self.mean = np.mean(X, axis=0)\n",
    "        self.standard_dev = np.std(X, axis=0) + self.eps\n",
    "    \n",
    "    def fit_transform(self, X):\n",
    "        self.fit(X)\n",
    "        return (X - self.mean) / self.standard_dev\n",
    "    \n",
    "    def transform(self, X):\n",
    "        if self.mean is None and self.standard_dev is None:\n",
    "            raise ValueError(\"fit method must be called before transform\")\n",
    "        return (X - self.mean) / self.standard_dev"
   ]
  },
  {
   "cell_type": "code",
   "execution_count": 8,
   "id": "b1018ad6",
   "metadata": {},
   "outputs": [],
   "source": [
    "scaler = StandardScaler()\n",
    "\n",
    "# find the statistics using training dataset\n",
    "scaler.fit(X_train)"
   ]
  },
  {
   "cell_type": "code",
   "execution_count": 9,
   "id": "ecdb7343",
   "metadata": {},
   "outputs": [],
   "source": [
    "# we do not want any feature to dominate over the other\n",
    "X_train_scaled, X_val_scaled, X_test_scaled = map(lambda x: scaler.transform(x).tolist(),\n",
    "                                                  [X_train, X_val, X_test])\n",
    "y_train, y_val, y_test = map(np.ndarray.tolist, [y_train, y_val, y_test])"
   ]
  },
  {
   "cell_type": "markdown",
   "id": "f60b2a53",
   "metadata": {},
   "source": [
    "## Training KNN on MNIST"
   ]
  },
  {
   "cell_type": "code",
   "execution_count": 10,
   "id": "b925b6f1",
   "metadata": {},
   "outputs": [],
   "source": [
    "class KNeighborsClassifier:\n",
    "    def __init__(self, n_neighbors=5, algorithm=\"brute\", distance=\"l2\"):\n",
    "        self.n_neighbors = n_neighbors\n",
    "        self.algorithm = algorithm\n",
    "        self.distance = distance\n",
    "        \n",
    "        # input and output variables, set to None\n",
    "        # updated once the fit() method is called\n",
    "        self.input_vars = None\n",
    "        self.target = None\n",
    "\n",
    "    def fit(self, X, y):\n",
    "        self.input_vars = X\n",
    "        self.target = y\n",
    "        \n",
    "        if self.algorithm == \"brute\":\n",
    "            return \n",
    "        elif self.algorithm == \"lsh\":\n",
    "            raise Exception(\"Not implemented\")\n",
    "                \n",
    "            \n",
    "    def predict_brute(self, query):\n",
    "        dist_and_labels = []\n",
    "        \n",
    "        # Iterating through the labels and datapoints for computing distances\n",
    "        for idata, itarget in zip(self.input_vars, self.target):\n",
    "            dist = self.L2_distance(idata, query)\n",
    "            dist_and_labels.append((itarget, dist)) \n",
    "\n",
    "        # sorting the distances in asceding order\n",
    "        dist_and_labels = sorted(dist_and_labels, key = lambda x: x[1])            \n",
    "        neighbours = list(map(lambda x: x[0], dist_and_labels[:self.n_neighbors]))\n",
    "\n",
    "        # majority vote amongs the top-k points\n",
    "        majority_class = self.majority_vote(neighbours)\n",
    "        return majority_class\n",
    "    \n",
    "    \n",
    "    def predict(self, X):\n",
    "        if self.algorithm == \"brute\":\n",
    "            return [self.predict_brute(q) for q in X]\n",
    "    \n",
    "    \n",
    "    def L2_distance(self, a, b):\n",
    "        assert len(a) == len(b)\n",
    "        return (sum((ia - ib) ** 2 for ia, ib in zip(a, b))) ** 0.5\n",
    "\n",
    "\n",
    "    def l1_distance(self, a, b):\n",
    "        assert len(a) == len(b)\n",
    "        return sum(abs(ia - ib) for ia, ib in zip(a, b))\n",
    "\n",
    "    \n",
    "    def majority_vote(self, neighbours):\n",
    "        # Boyer moore's algorithms to find the majority\n",
    "        # element. O(n) time and O(1) space\n",
    "        potential = neighbours[0]\n",
    "        count = 1\n",
    "        \n",
    "        for neigh in neighbours[1:]:\n",
    "            if neigh == potential:\n",
    "                count += 1\n",
    "            else:\n",
    "                count -= 1\n",
    "                if count == 0:\n",
    "                    potential = neigh\n",
    "                    count = 1\n",
    "        return potential\n",
    "    \n",
    "    def compute_accuracy(self, y_pred, y_target):\n",
    "        match = 0\n",
    "        for iyp, iyt in zip(y_pred, y_target):\n",
    "            if iyp == iyt:\n",
    "                match += 1\n",
    "        return round(match / len(y_pred), 2)"
   ]
  },
  {
   "cell_type": "code",
   "execution_count": 11,
   "id": "16ca2599",
   "metadata": {},
   "outputs": [],
   "source": [
    "knn = KNeighborsClassifier()\n",
    "knn.fit(X_train_scaled, \n",
    "        y_train)"
   ]
  },
  {
   "cell_type": "code",
   "execution_count": 12,
   "id": "47236ccf",
   "metadata": {},
   "outputs": [],
   "source": [
    "X_val_prediction = knn.predict(X_val_scaled)"
   ]
  },
  {
   "cell_type": "code",
   "execution_count": 13,
   "id": "eb415512",
   "metadata": {},
   "outputs": [
    {
     "name": "stdout",
     "output_type": "stream",
     "text": [
      "Accuracy: 0.93\n"
     ]
    }
   ],
   "source": [
    "acc = knn.compute_accuracy(X_val_prediction, y_val)\n",
    "print(\"Accuracy:\", acc)"
   ]
  },
  {
   "cell_type": "markdown",
   "id": "65cca392",
   "metadata": {},
   "source": [
    "## Hyperparameter tuning [K]"
   ]
  },
  {
   "cell_type": "code",
   "execution_count": 14,
   "id": "2ffd5fde",
   "metadata": {},
   "outputs": [
    {
     "name": "stdout",
     "output_type": "stream",
     "text": [
      "[1, 3, 5, 7, 9, 11, 13, 15, 17, 19, 21, 23, 25, 27, 29, 31, 33, 35, 37, 39, 41, 43, 45, 47, 49]\n"
     ]
    }
   ],
   "source": [
    "k_values = list(range(1, 50, 2))\n",
    "print(k_values)"
   ]
  },
  {
   "cell_type": "code",
   "execution_count": null,
   "id": "6e5c29b6",
   "metadata": {},
   "outputs": [],
   "source": [
    "train_accs = []\n",
    "val_accs = []\n",
    "\n",
    "for k in k_values:\n",
    "    # KNeighborsClassifier with the current k\n",
    "    knn = KNeighborsClassifier(n_neighbors=k, algorithm=\"brute\", distance=\"l2\")\n",
    "\n",
    "    # Training\n",
    "    knn.fit(X_train_scaled, y_train)\n",
    "\n",
    "    # Prediction with current K\n",
    "    y_pred_train = knn.predict(X_train_scaled)\n",
    "    y_pred_val = knn.predict(X_val_scaled)\n",
    "\n",
    "    # Computing accuracy on training and validation datasets\n",
    "    train_acc = knn.compute_accuracy(y_pred_train, y_train)\n",
    "    val_acc = knn.compute_accuracy(y_pred_val, y_val)\n",
    "\n",
    "    train_accs.append(train_acc)\n",
    "    val_accs.append(val_acc)"
   ]
  },
  {
   "cell_type": "code",
   "execution_count": null,
   "id": "851cc282",
   "metadata": {},
   "outputs": [],
   "source": [
    "plt.plot(k_values, train_accs, label='Train Accuracy')\n",
    "plt.plot(k_values, val_accs, label='Validation Accuracy')\n",
    "\n",
    "plt.xlabel('Number of Neighbors (k)')\n",
    "plt.ylabel('Accuracy')\n",
    "plt.title('Accuracy vs Number of Neighbors')\n",
    "plt.legend()\n",
    "plt.grid(True)\n",
    "plt.show()"
   ]
  }
 ],
 "metadata": {
  "kernelspec": {
   "display_name": "Python 3 (ipykernel)",
   "language": "python",
   "name": "python3"
  },
  "language_info": {
   "codemirror_mode": {
    "name": "ipython",
    "version": 3
   },
   "file_extension": ".py",
   "mimetype": "text/x-python",
   "name": "python",
   "nbconvert_exporter": "python",
   "pygments_lexer": "ipython3",
   "version": "3.11.5"
  }
 },
 "nbformat": 4,
 "nbformat_minor": 5
}
