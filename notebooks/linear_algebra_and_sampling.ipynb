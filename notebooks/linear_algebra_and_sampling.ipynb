{
 "cells": [
  {
   "cell_type": "code",
   "execution_count": 1,
   "id": "e06459ec",
   "metadata": {},
   "outputs": [],
   "source": [
    "from math import sqrt"
   ]
  },
  {
   "cell_type": "code",
   "execution_count": 2,
   "id": "47484907",
   "metadata": {},
   "outputs": [
    {
     "data": {
      "text/plain": [
       "[3, 2]"
      ]
     },
     "execution_count": 2,
     "metadata": {},
     "output_type": "execute_result"
    }
   ],
   "source": [
    "def get_shape(a):\n",
    "    return [len(a), len(a[0])]\n",
    "\n",
    "a = [\n",
    "    [1, 2],\n",
    "    [4, 5],\n",
    "    [7, 8]\n",
    "]\n",
    "\n",
    "get_shape(a)"
   ]
  },
  {
   "cell_type": "code",
   "execution_count": 3,
   "id": "601b3e33",
   "metadata": {},
   "outputs": [
    {
     "data": {
      "text/plain": [
       "3.7416573867739413"
      ]
     },
     "execution_count": 3,
     "metadata": {},
     "output_type": "execute_result"
    }
   ],
   "source": [
    "def distance_from_origin(a):\n",
    "    return sqrt(sum([ia ** 2 for ia in a]))\n",
    "\n",
    "a = [1, 2, 3]\n",
    "distance_from_origin(a)"
   ]
  },
  {
   "cell_type": "code",
   "execution_count": 4,
   "id": "0a623177",
   "metadata": {},
   "outputs": [
    {
     "data": {
      "text/plain": [
       "5.196152422706632"
      ]
     },
     "execution_count": 4,
     "metadata": {},
     "output_type": "execute_result"
    }
   ],
   "source": [
    "def distance_between(a, b):\n",
    "    return sqrt(sum([(ia - ib) ** 2 for ia, ib in zip(a, b)]))\n",
    "\n",
    "a = [1, 2, 3]\n",
    "b = [4, 5, 6]\n",
    "distance_between(a, b)"
   ]
  },
  {
   "cell_type": "code",
   "execution_count": 5,
   "id": "584d9ccb",
   "metadata": {},
   "outputs": [
    {
     "data": {
      "text/plain": [
       "[0.2672612419124244, 0.5345224838248488, 0.8017837257372732]"
      ]
     },
     "execution_count": 5,
     "metadata": {},
     "output_type": "execute_result"
    }
   ],
   "source": [
    "def unit_vector(w):\n",
    "    return [iw / distance_from_origin(w) for iw in w]\n",
    "\n",
    "w = [1, 2, 3]\n",
    "unit_vector(w)"
   ]
  },
  {
   "cell_type": "code",
   "execution_count": 6,
   "id": "8bbc1613",
   "metadata": {},
   "outputs": [],
   "source": [
    "def Minkowski_distance(k, a, b):\n",
    "    \"\"\"\n",
    "    Given two vectors, return the minkowski distance between\n",
    "    two vectors.\n",
    "    \"\"\"\n",
    "    return sum([abs(comp_a - comp_b) ** k for comp_a, comp_b in zip(comp_a, comp_b)]) ** (1 / k)"
   ]
  },
  {
   "cell_type": "code",
   "execution_count": 7,
   "id": "39f5ab8a",
   "metadata": {},
   "outputs": [],
   "source": [
    "def hamming_distance(a, b):\n",
    "    assert len(a) == len(b), \"Dimensions do not match!\"\n",
    "    hd = 0\n",
    "    for ia, ib in zip(a, b):\n",
    "        if ia != ib:\n",
    "            hd += 1\n",
    "    return hd"
   ]
  },
  {
   "cell_type": "code",
   "execution_count": 8,
   "id": "200135dd",
   "metadata": {},
   "outputs": [
    {
     "data": {
      "text/plain": [
       "[[1, 4, 7], [2, 5, 8]]"
      ]
     },
     "execution_count": 8,
     "metadata": {},
     "output_type": "execute_result"
    }
   ],
   "source": [
    "def transpose(a):\n",
    "    a_transpose = []\n",
    "    for icol in range(len(a[0])):\n",
    "        a_transpose.append([])\n",
    "        for irow in range(len(a)):\n",
    "            # irow variable and icol static for an iteration\n",
    "            a_transpose[icol].append(a[irow][icol])\n",
    "    return a_transpose\n",
    "            \n",
    "            \n",
    "a = [\n",
    "    [1, 2],\n",
    "    [4, 5],\n",
    "    [7, 8]\n",
    "]\n",
    "    \n",
    "transpose(a)            "
   ]
  },
  {
   "cell_type": "markdown",
   "id": "90313623",
   "metadata": {},
   "source": [
    "\n",
    "<h3> Q: Given two matrices please print the product of those two matrices </h3>\n",
    "<pre>\n",
    "\n",
    "Ex 1: A   = [[1 3 4]\n",
    "             [2 5 7]\n",
    "             [5 9 6]]\n",
    "      B   = [[1 0 0]\n",
    "             [0 1 0]\n",
    "             [0 0 1]]\n",
    "      A*B = [[1 3 4]\n",
    "             [2 5 7]\n",
    "             [5 9 6]]\n",
    "\n",
    "     \n",
    "Ex 2: A   = [[1 2]\n",
    "             [3 4]]\n",
    "      B   = [[1 2 3 4 5]\n",
    "             [5 6 7 8 9]]\n",
    "      A*B = [[11 14 17 20 23]\n",
    "             [23 30 37 44 51]]\n",
    "             \n",
    "Ex 3: A   = [[1 2]\n",
    "             [3 4]]\n",
    "      B   = [[1 4]\n",
    "             [5 6]\n",
    "             [7 8]\n",
    "             [9 6]]\n",
    "      A*B =Not possible\n",
    "</pre>"
   ]
  },
  {
   "cell_type": "code",
   "execution_count": 9,
   "id": "3beb16d9",
   "metadata": {},
   "outputs": [],
   "source": [
    "def dot_product(a, b):\n",
    "    \"\"\"\n",
    "    Performs dot product given two vectors\n",
    "    \"\"\"\n",
    "    assert len(a) ==  len(b), \"Dot product not possible\"\n",
    "    return sum([ia * ib for ia, ib in zip(a, b)])\n",
    "\n",
    "def matmul(a, b):\n",
    "    result = []\n",
    "    # Iterate through the rows of a\n",
    "    for irow, a_row in enumerate(a):\n",
    "        # Dot products will be appended with corresponding rows\n",
    "        result.append([])\n",
    "        # Iterate through the columns first\n",
    "        for jcol in range(len(b[0])):\n",
    "            b_col = []\n",
    "            # Secondly iterate through the rows\n",
    "            # Will complete iterating row first and column second\n",
    "            for jrow in range(len(b)):\n",
    "                b_col.append(b[jrow][jcol])\n",
    "            # Peforming dot product\n",
    "            dot_ab = dot_product(a_row, b_col)\n",
    "            # appending the dot product\n",
    "            result[irow].append(dot_ab)\n",
    "    return result"
   ]
  },
  {
   "cell_type": "code",
   "execution_count": 10,
   "id": "85c4a90c",
   "metadata": {},
   "outputs": [
    {
     "data": {
      "text/plain": [
       "[[1, 3, 4], [2, 5, 7], [5, 9, 6]]"
      ]
     },
     "execution_count": 10,
     "metadata": {},
     "output_type": "execute_result"
    }
   ],
   "source": [
    "A   = [\n",
    "        [1, 3, 4],\n",
    "        [2, 5, 7],\n",
    "        [5, 9, 6]\n",
    "    ]\n",
    "\n",
    "B   = [\n",
    "        [1, 0, 0],\n",
    "        [0, 1, 0],\n",
    "        [0, 0, 1]\n",
    "    ]\n",
    "\n",
    "matmul(A, B)"
   ]
  },
  {
   "cell_type": "code",
   "execution_count": 11,
   "id": "8e0d4156",
   "metadata": {},
   "outputs": [
    {
     "data": {
      "text/plain": [
       "[[11, 14, 17, 20, 23], [23, 30, 37, 44, 51]]"
      ]
     },
     "execution_count": 11,
     "metadata": {},
     "output_type": "execute_result"
    }
   ],
   "source": [
    "A   = [\n",
    "    [1, 2],\n",
    "    [3, 4]\n",
    "]\n",
    "B   = [\n",
    "    [1, 2, 3, 4, 5],\n",
    "    [5, 6, 7, 8, 9]\n",
    "]\n",
    "\n",
    "matmul(A, B)"
   ]
  },
  {
   "cell_type": "code",
   "execution_count": 12,
   "id": "79bb7072",
   "metadata": {},
   "outputs": [
    {
     "ename": "AssertionError",
     "evalue": "Dot product not possible",
     "output_type": "error",
     "traceback": [
      "\u001b[0;31m---------------------------------------------------------------------------\u001b[0m",
      "\u001b[0;31mAssertionError\u001b[0m                            Traceback (most recent call last)",
      "Cell \u001b[0;32mIn[12], line 12\u001b[0m\n\u001b[1;32m      1\u001b[0m A   \u001b[38;5;241m=\u001b[39m [\n\u001b[1;32m      2\u001b[0m     [\u001b[38;5;241m1\u001b[39m, \u001b[38;5;241m2\u001b[39m],\n\u001b[1;32m      3\u001b[0m     [\u001b[38;5;241m3\u001b[39m, \u001b[38;5;241m4\u001b[39m]\n\u001b[1;32m      4\u001b[0m ]\n\u001b[1;32m      5\u001b[0m B   \u001b[38;5;241m=\u001b[39m [\n\u001b[1;32m      6\u001b[0m     [\u001b[38;5;241m1\u001b[39m, \u001b[38;5;241m4\u001b[39m],\n\u001b[1;32m      7\u001b[0m     [\u001b[38;5;241m5\u001b[39m, \u001b[38;5;241m6\u001b[39m],\n\u001b[1;32m      8\u001b[0m     [\u001b[38;5;241m7\u001b[39m, \u001b[38;5;241m8\u001b[39m],\n\u001b[1;32m      9\u001b[0m     [\u001b[38;5;241m9\u001b[39m, \u001b[38;5;241m6\u001b[39m]\n\u001b[1;32m     10\u001b[0m ]\n\u001b[0;32m---> 12\u001b[0m \u001b[43mmatmul\u001b[49m\u001b[43m(\u001b[49m\u001b[43mA\u001b[49m\u001b[43m,\u001b[49m\u001b[43m \u001b[49m\u001b[43mB\u001b[49m\u001b[43m)\u001b[49m\n",
      "Cell \u001b[0;32mIn[9], line 22\u001b[0m, in \u001b[0;36mmatmul\u001b[0;34m(a, b)\u001b[0m\n\u001b[1;32m     20\u001b[0m     b_col\u001b[38;5;241m.\u001b[39mappend(b[jrow][jcol])\n\u001b[1;32m     21\u001b[0m \u001b[38;5;66;03m# Peforming dot product\u001b[39;00m\n\u001b[0;32m---> 22\u001b[0m dot_ab \u001b[38;5;241m=\u001b[39m \u001b[43mdot_product\u001b[49m\u001b[43m(\u001b[49m\u001b[43ma_row\u001b[49m\u001b[43m,\u001b[49m\u001b[43m \u001b[49m\u001b[43mb_col\u001b[49m\u001b[43m)\u001b[49m\n\u001b[1;32m     23\u001b[0m \u001b[38;5;66;03m# appending the dot product\u001b[39;00m\n\u001b[1;32m     24\u001b[0m result[irow]\u001b[38;5;241m.\u001b[39mappend(dot_ab)\n",
      "Cell \u001b[0;32mIn[9], line 5\u001b[0m, in \u001b[0;36mdot_product\u001b[0;34m(a, b)\u001b[0m\n\u001b[1;32m      1\u001b[0m \u001b[38;5;28;01mdef\u001b[39;00m \u001b[38;5;21mdot_product\u001b[39m(a, b):\n\u001b[1;32m      2\u001b[0m \u001b[38;5;250m    \u001b[39m\u001b[38;5;124;03m\"\"\"\u001b[39;00m\n\u001b[1;32m      3\u001b[0m \u001b[38;5;124;03m    Performs dot product given two vectors\u001b[39;00m\n\u001b[1;32m      4\u001b[0m \u001b[38;5;124;03m    \"\"\"\u001b[39;00m\n\u001b[0;32m----> 5\u001b[0m     \u001b[38;5;28;01massert\u001b[39;00m \u001b[38;5;28mlen\u001b[39m(a) \u001b[38;5;241m==\u001b[39m  \u001b[38;5;28mlen\u001b[39m(b), \u001b[38;5;124m\"\u001b[39m\u001b[38;5;124mDot product not possible\u001b[39m\u001b[38;5;124m\"\u001b[39m\n\u001b[1;32m      6\u001b[0m     \u001b[38;5;28;01mreturn\u001b[39;00m \u001b[38;5;28msum\u001b[39m([ia \u001b[38;5;241m*\u001b[39m ib \u001b[38;5;28;01mfor\u001b[39;00m ia, ib \u001b[38;5;129;01min\u001b[39;00m \u001b[38;5;28mzip\u001b[39m(a, b)])\n",
      "\u001b[0;31mAssertionError\u001b[0m: Dot product not possible"
     ]
    }
   ],
   "source": [
    "A   = [\n",
    "    [1, 2],\n",
    "    [3, 4]\n",
    "]\n",
    "B   = [\n",
    "    [1, 4],\n",
    "    [5, 6],\n",
    "    [7, 8],\n",
    "    [9, 6]\n",
    "]\n",
    "\n",
    "matmul(A, B)"
   ]
  },
  {
   "cell_type": "markdown",
   "id": "247578f7",
   "metadata": {},
   "source": [
    "<h3> Q: Proportional Sampling - Select a number randomly with probability proportional to its magnitude from the given array of n elements</h3>\n",
    "\n",
    "Consider an experiment, selecting an element from the list A randomly with probability proportional to its magnitude.\n",
    "assume we are doing the same experiment for 100 times with replacement, in each experiment you will print a number that is selected randomly from A.\n",
    "\n",
    "<pre>\n",
    "Ex 1: A = [0 5 27 6 13 28 100 45 10 79]\n",
    "let f(x) denote the number of times x getting selected in 100 experiments.\n",
    "f(100) > f(79) > f(45) > f(28) > f(27) > f(13) > f(10) > f(6) > f(5) > f(0)\n",
    "</pre>"
   ]
  },
  {
   "cell_type": "code",
   "execution_count": 13,
   "id": "be925fa2",
   "metadata": {},
   "outputs": [],
   "source": [
    "def get_prefix_sum(arr):\n",
    "    prefix_sum = [arr[0]]\n",
    "    for i in range(1, len(arr)):\n",
    "        prefix_sum.append(prefix_sum[i - 1] + arr[i])\n",
    "    return prefix_sum"
   ]
  },
  {
   "cell_type": "code",
   "execution_count": 14,
   "id": "77385137",
   "metadata": {},
   "outputs": [],
   "source": [
    "from numpy.random import uniform\n",
    "\n",
    "# Proportional sampling is used in Kmeans++ for initalizing the centroids\n",
    "def proportional_sampling(rv, k):\n",
    "    summation = sum(rv)\n",
    "    normalized_rv = [irv / summation for irv in rv]\n",
    "    cumul = get_prefix_sum(normalized_rv)\n",
    "    r = uniform(0.0, 1.0, k)\n",
    "    samples = []\n",
    "    for ir in r:\n",
    "        for index, icum in enumerate(cumul):\n",
    "            if ir <= icum:\n",
    "                samples.append(rv[index])\n",
    "                break\n",
    "    return samples"
   ]
  }
 ],
 "metadata": {
  "kernelspec": {
   "display_name": "ai",
   "language": "python",
   "name": "ai"
  },
  "language_info": {
   "codemirror_mode": {
    "name": "ipython",
    "version": 3
   },
   "file_extension": ".py",
   "mimetype": "text/x-python",
   "name": "python",
   "nbconvert_exporter": "python",
   "pygments_lexer": "ipython3",
   "version": "3.8.18"
  }
 },
 "nbformat": 4,
 "nbformat_minor": 5
}
