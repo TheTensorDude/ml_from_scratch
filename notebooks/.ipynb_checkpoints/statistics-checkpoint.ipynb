{
 "cells": [
  {
   "cell_type": "code",
   "execution_count": 1,
   "id": "0d819218",
   "metadata": {},
   "outputs": [],
   "source": [
    "import math"
   ]
  },
  {
   "cell_type": "code",
   "execution_count": 2,
   "id": "8a0705f0",
   "metadata": {},
   "outputs": [],
   "source": [
    "def mean(rv):\n",
    "    \"\"\"\n",
    "    Given a random variable, \n",
    "    return the mean of the random variable\n",
    "    \"\"\"\n",
    "    return sum(rv) / len(rv)"
   ]
  },
  {
   "cell_type": "code",
   "execution_count": 3,
   "id": "7ff9cfc5",
   "metadata": {},
   "outputs": [],
   "source": [
    "def variance(rv):\n",
    "    \"\"\"\n",
    "    Given a sample draws from population\n",
    "    returns the variance (corrected by bezzel's)\n",
    "    \"\"\"\n",
    "    m = mean(rv)\n",
    "    n = len(rv)\n",
    "    var = sum([((ix - m) ** 2) / (n - 1) for ix in rv])\n",
    "    return var\n",
    "\n",
    "def standard_deviation(rv):\n",
    "    \"\"\"\n",
    "    Assumes the sample is drawn from a population,\n",
    "    hence denominator is (n - 1), popularly known as\n",
    "    Bezzel's correction\n",
    "    \"\"\"\n",
    "    var = variance(rv)\n",
    "    return var ** 0.5"
   ]
  },
  {
   "cell_type": "code",
   "execution_count": 4,
   "id": "b05ec309",
   "metadata": {},
   "outputs": [],
   "source": [
    "def covariance(x, y):\n",
    "    \"\"\"\n",
    "    Given two random variable X and Y\n",
    "    returns the linear relationship\n",
    "    \"\"\"\n",
    "    mean_x, mean_y = mean(x), mean(y)\n",
    "    return (1 / len(x)) * sum([(ix - mean_x) * (iy - mean_y) for ix, iy in zip(x, y)])\n",
    "\n",
    "def pearson_correlation_coeff(x, y):\n",
    "    \"\"\"\n",
    "    Computes the pearson correlation coefficient\n",
    "    measure for two random variable\n",
    "    \"\"\"\n",
    "    covar = covariance(x, y)\n",
    "    return covar / (standard_deviation(x) * standard_deviaiton(y))\n",
    "\n",
    "from scipy.stats import rankdata\n",
    "def spearman_rank_correlation(x, y):\n",
    "    \"\"\"\n",
    "    Computes spearman rank correlation coefficient\n",
    "    \"\"\"\n",
    "    rank_x, rank_y = rankdata(x), rankdata(y)\n",
    "    return pearson_correlation_coeff(rank_x, rank_y)"
   ]
  },
  {
   "cell_type": "code",
   "execution_count": 5,
   "id": "6e8f08dd",
   "metadata": {},
   "outputs": [],
   "source": [
    "def median(rv):\n",
    "    \"\"\"\n",
    "    Much more robust when we have outliers in our dataset.\n",
    "    \"\"\"\n",
    "    sorted_rv = sorted(rv)\n",
    "    length = len(sorted_rv)\n",
    "    isEven = True if length % 2 == 0 else False\n",
    "    if isEven:\n",
    "        i, j = length // 2, (length // 2) - 1\n",
    "        return mean([sorted_rv[i], sorted_rv[j]])\n",
    "    else:\n",
    "        return sorted_rv[length // 2]"
   ]
  },
  {
   "cell_type": "code",
   "execution_count": 6,
   "id": "29cf18e1",
   "metadata": {},
   "outputs": [
    {
     "name": "stdout",
     "output_type": "stream",
     "text": [
      "1st quantile: 3.5\n",
      "2nd quantile: 5.0\n",
      "3rd quantile: 5.5\n",
      "Mean: 6.375\n",
      "IQR: 2.0\n"
     ]
    }
   ],
   "source": [
    "def quantile(rv, q = 0.25):\n",
    "    sorted_rv = sorted(rv)\n",
    "    length = len(sorted_rv) - 1\n",
    "    \n",
    "    index = length * q\n",
    "    if index.is_integer():\n",
    "        return sorted_rv[int(index)]\n",
    "    else:\n",
    "        low, high = math.floor(index), math.ceil(index)\n",
    "        \n",
    "        lower_value = sorted_rv[low]\n",
    "        upper_value = sorted_rv[high]\n",
    "        \n",
    "        return round(lower_value + (index - low) * (upper_value - lower_value), 2)\n",
    "    \n",
    "    \n",
    "# Quantiles divides the values into equal parts where we have exactly num_parts - 1 separators\n",
    "arr = [4, 2, 5, 7, 2, 5, 21, 5]\n",
    "\n",
    "print(\"1st quantile:\", quantile(arr, 0.25))\n",
    "print(\"2nd quantile:\", quantile(arr, 0.50))\n",
    "print(\"3rd quantile:\", quantile(arr, 0.75))\n",
    "\n",
    "print(\"Mean:\", mean(arr))\n",
    "print(\"IQR:\", quantile(arr, 0.75) - quantile(arr, 0.25))"
   ]
  },
  {
   "cell_type": "code",
   "execution_count": 7,
   "id": "0c00a3b6",
   "metadata": {},
   "outputs": [
    {
     "name": "stdout",
     "output_type": "stream",
     "text": [
      "25 percentile 3.5\n",
      "50 percentile 5.0\n",
      "75 percentile 5.5\n"
     ]
    }
   ],
   "source": [
    "def percentile(arr, p):\n",
    "    sorted_arr = sorted(arr)\n",
    "    length = len(sorted_arr)\n",
    "    percentiles = []\n",
    "    for i in range(1, 101):\n",
    "        index = i * (length - 1) * 0.01\n",
    "        if index.is_integer():\n",
    "            percentiles.append(sorted_arr[int(index)])\n",
    "        else:\n",
    "            # Linear interpolation\n",
    "            low, high = math.floor(index), math.ceil(index)\n",
    "            low_val, high_val = sorted_arr[low], sorted_arr[high]\n",
    "            val = low_val + (index - low) * (high_val - low_val)\n",
    "            percentiles.append(val)\n",
    "    return round(percentiles[p - 1], 2)\n",
    "            \n",
    "        \n",
    "arr = [4, 2, 5, 7, 2, 5, 21, 5]\n",
    "print(\"25 percentile\", percentile(arr, 25))\n",
    "print(\"50 percentile\", percentile(arr, 50))\n",
    "print(\"75 percentile\", percentile(arr, 75))"
   ]
  },
  {
   "cell_type": "markdown",
   "id": "a4f1cade",
   "metadata": {},
   "source": [
    "### Proportional Sampling\n",
    "\n",
    "Proportional sampling is a sampling technique where the size of each stratum sample is directly proportional to the population size of the entire population of strata. This means that each strata sample has the same sampling fraction. "
   ]
  },
  {
   "cell_type": "code",
   "execution_count": 8,
   "id": "e2c8729f",
   "metadata": {},
   "outputs": [],
   "source": [
    "from numpy.random import uniform, normal\n",
    "\n",
    "def proportional_sampling(arr, num_samples):\n",
    "    total = sum(arr)\n",
    "    normalized_arr = [a / total for a in arr]\n",
    "    \n",
    "    # computing prefix sum\n",
    "    prefix_sum = [normalized_arr[0]]\n",
    "    for num in normalized_arr[1:]:\n",
    "        prefix_sum.append(prefix_sum[-1] + num)\n",
    "        \n",
    "    samples = []\n",
    "    for i in uniform(size = num_samples):\n",
    "        for index, value in enumerate(prefix_sum):\n",
    "            if i < value:\n",
    "                samples.append(arr[index])\n",
    "                break\n",
    "    return samples"
   ]
  },
  {
   "cell_type": "code",
   "execution_count": 9,
   "id": "74f3a22d",
   "metadata": {},
   "outputs": [
    {
     "name": "stdout",
     "output_type": "stream",
     "text": [
      "Sampled using proportional sampling: [5716, 7323, 8332, 7756, 7457, 2084, 8046, 6250, 4316, 9755]\n"
     ]
    }
   ],
   "source": [
    "population = uniform(0.1, 10000, 500).astype(\"int16\")\n",
    "sampled = proportional_sampling(population, 10)\n",
    "print(\"Sampled using proportional sampling:\", sampled)"
   ]
  },
  {
   "cell_type": "markdown",
   "id": "0ed42a22",
   "metadata": {},
   "source": [
    "### Central Limit Theorem"
   ]
  },
  {
   "cell_type": "code",
   "execution_count": 10,
   "id": "2382abd1",
   "metadata": {},
   "outputs": [],
   "source": [
    "import matplotlib.pyplot as plt\n",
    "from random import choice, randint\n",
    "\n",
    "def central_limit_theorem(population, sample_size, iterations):\n",
    "    assert sample_size < len(population), \"Sample size should be smaller than the population.\"\n",
    "    sample_means = []\n",
    "    for i in range(iterations):\n",
    "        sampling_distribution = [choice(population) for sample in range(sample_size)]\n",
    "        sample_means.append(mean(sampling_distribution))\n",
    "    \n",
    "    plt.hist(sample_means, bins = 15)\n",
    "    plt.grid(True)\n",
    "    plt.show();\n",
    "    \n",
    "    return sample_means"
   ]
  },
  {
   "cell_type": "code",
   "execution_count": 11,
   "id": "33b18430",
   "metadata": {},
   "outputs": [
    {
     "data": {
      "image/png": "[encoded data removed]",
      "text/plain": [
       "<Figure size 640x480 with 1 Axes>"
      ]
     },
     "metadata": {},
     "output_type": "display_data"
    }
   ],
   "source": [
    "population = [randint(1, 1000) for _ in range(1000)]\n",
    "sample_means = central_limit_theorem(population, 100, 1000)"
   ]
  },
  {
   "cell_type": "markdown",
   "id": "160c7198",
   "metadata": {},
   "source": [
    "### Quantile-Quantile Plot"
   ]
  },
  {
   "cell_type": "code",
   "execution_count": 12,
   "id": "eb57bd43",
   "metadata": {},
   "outputs": [],
   "source": [
    "def get_percentiles(rv):\n",
    "    length = len(rv) - 1\n",
    "    sorted_rv = sorted(rv)\n",
    "    percentiles = []\n",
    "    for i in range(1, 101):\n",
    "        index = i * length * 0.01\n",
    "        if index.is_integer():\n",
    "            percentiles.append(sorted_rv[int(index)])\n",
    "        else:\n",
    "            low, high = math.floor(index), math.ceil(index)\n",
    "            low_val, high_val = sorted_rv[low], sorted_rv[high]\n",
    "            perc_val = low_val + (index - low) * (high_val - low_val)\n",
    "            percentiles.append(perc_val)\n",
    "    return percentiles"
   ]
  },
  {
   "cell_type": "code",
   "execution_count": 13,
   "id": "86624aa0",
   "metadata": {},
   "outputs": [],
   "source": [
    "# Q: Does CLT really work?\n",
    "def QQplot(rv1, rv2):\n",
    "    x_values = get_percentiles(rv1)\n",
    "    y_values = get_percentiles(rv2)\n",
    "    \n",
    "    plt.scatter(x_values, y_values, color='blue', alpha=0.5, label='Data Points')\n",
    "    plt.grid(True)\n",
    "    plt.show();"
   ]
  },
  {
   "cell_type": "code",
   "execution_count": 14,
   "id": "9bfe65c3",
   "metadata": {},
   "outputs": [
    {
     "data": {
      "image/png": "[encoded data removed]",
      "text/plain": [
       "<Figure size 640x480 with 1 Axes>"
      ]
     },
     "metadata": {},
     "output_type": "display_data"
    }
   ],
   "source": [
    "nd_samples = normal(0, 1, 1000)\n",
    "QQplot(sample_means, nd_samples)"
   ]
  },
  {
   "cell_type": "markdown",
   "id": "dbfe280b",
   "metadata": {},
   "source": [
    "This is roughly a line with 45 degree angle, so CLT definitely works!"
   ]
  },
  {
   "cell_type": "markdown",
   "id": "f239874e",
   "metadata": {},
   "source": [
    "### Confidence Intervals"
   ]
  },
  {
   "cell_type": "code",
   "execution_count": 15,
   "id": "acd469bc",
   "metadata": {},
   "outputs": [],
   "source": [
    "from scipy.stats import norm, t"
   ]
  },
  {
   "cell_type": "code",
   "execution_count": 22,
   "id": "9a952968",
   "metadata": {},
   "outputs": [],
   "source": [
    "class ConfidenceInterval:\n",
    "    \"\"\"\n",
    "    Given a sample distribution estimates the \n",
    "    mean of the population distribution. \n",
    "    \"\"\"\n",
    "    def __init__(self, C, population_std_dev = None):\n",
    "        self.C = C\n",
    "        self.alpha = 1 - C\n",
    "        self.std_dev = population_std_dev\n",
    "        \n",
    "    def estimate_mean(self, samples):\n",
    "        sample_size = len(samples)\n",
    "        sample_mean = mean(samples)\n",
    "        \n",
    "        # If population standard deviation is given then CLT will be used\n",
    "        if self.std_dev:\n",
    "            print(\"Population standard deviation is given. Estimating mean...\")\n",
    "            margin_of_error = norm.ppf(1 - self.alpha/2)\n",
    "        \n",
    "        # In-case population standard deviation is not given\n",
    "        # need to check if sample size if atleast 30\n",
    "        elif not self.std_dev:\n",
    "            self.std_dev = standard_deviation(samples)\n",
    "            # Uses t-distribution for small samples\n",
    "            if sample_size < 30:\n",
    "                print(\"Population standard deviation is not provided, using sample standard deviation...\")\n",
    "                print(\"Sample size is small, using t-distribution...\")\n",
    "                degrees_of_freedom = sample_size - 1\n",
    "                margin_of_error = t.ppf(1 - self.alpha/2, df=degrees_of_freedom)\n",
    "            else:\n",
    "                # Normal distribution works well for large samples\n",
    "                print(\"Population standard deviation is not provided, using sample standard deviation..\")\n",
    "                print(\"Margin of error will be computed from normal distribution, sample size is large..\")\n",
    "                margin_of_error = norm.ppf(1 - self.alpha/2)\n",
    "            \n",
    "            \n",
    "        # Computing the confidence interval\n",
    "        around = (margin_of_error * (self.std_dev / (sample_size) ** 0.5))\n",
    "        lower_bound = sample_mean - around\n",
    "        upper_bound = sample_mean + around\n",
    "        return {\n",
    "            \"confidence\" : f\"{self.C * 100}%\",\n",
    "            \"lower_bound\" : round(lower_bound, 2),\n",
    "            \"upper_bound\" : round(upper_bound, 2)\n",
    "        }\n",
    "    \n",
    "    def estimate_mean_using_bootstrapping(self, samples, bootstrapping_sample_size = 30, iteration = 1000):\n",
    "        # Uses bootstrapping to estimate the mean\n",
    "        parameter_of_sampling_distribution = []\n",
    "        for i in range(iteration):\n",
    "            new_sample = [choice(samples) for i in range(bootstrapping_sample_size)]\n",
    "            new_sample_mean = mean(new_sample)\n",
    "            parameter_of_sampling_distribution.append(new_sample_mean)\n",
    "            \n",
    "        # computing percentiles\n",
    "        \n",
    "        \n",
    "    def compute_percentiles(self, arr):\n",
    "        arr = sorted(arr)\n",
    "        \n",
    "        for i in range(100):\n",
    "            \n",
    "            \n",
    "        "
   ]
  },
  {
   "cell_type": "code",
   "execution_count": 23,
   "id": "30ec1062",
   "metadata": {},
   "outputs": [
    {
     "name": "stdout",
     "output_type": "stream",
     "text": [
      "Population mean: 5074.775\n",
      "Population standard deviation is not provided, using sample standard deviation..\n",
      "Margin of error will be computed from normal distribution, sample size is large..\n",
      "{'confidence': '95.0%', 'lower_bound': 4896.89, 'upper_bound': 5252.66}\n"
     ]
    }
   ],
   "source": [
    "# generate population from an uniform distribution\n",
    "# size is 10000 for population data\n",
    "population = [randint(10, 10000) for i in range(1000)]\n",
    "print(\"Population mean:\", mean(population))\n",
    "\n",
    "# sampling 100 points from population\n",
    "samples = [choice(population) for i in range(100)]\n",
    "\n",
    "# we want to estimate the population mean using the samples\n",
    "# Population standard deviation will not be provided\n",
    "ci = ConfidenceInterval(C = 0.95)\n",
    "estimation_dict = ci.estimate_mean(population)\n",
    "\n",
    "print(estimation_dict)"
   ]
  },
  {
   "cell_type": "code",
   "execution_count": 24,
   "id": "ae94de67",
   "metadata": {},
   "outputs": [
    {
     "name": "stdout",
     "output_type": "stream",
     "text": [
      "Population mean: 447.074\n",
      "Population standard deviation is not provided, using sample standard deviation..\n",
      "Margin of error will be computed from normal distribution, sample size is large..\n",
      "{'confidence': '97.0%', 'lower_bound': 429.42, 'upper_bound': 464.73}\n"
     ]
    }
   ],
   "source": [
    "# generate population from an uniform distribution\n",
    "# size is 10000 for population data\n",
    "population = [randint(10, 900) for i in range(1000)]\n",
    "print(\"Population mean:\", mean(population))\n",
    "\n",
    "# sampling 100 points from population\n",
    "samples = [choice(population) for i in range(100)]\n",
    "\n",
    "# we want to estimate the population mean using the samples\n",
    "# Population standard deviation will not be provided\n",
    "ci = ConfidenceInterval(C = 0.97)\n",
    "estimation_dict = ci.estimate_mean(population)\n",
    "\n",
    "print(estimation_dict)"
   ]
  },
  {
   "cell_type": "markdown",
   "id": "f42b2204",
   "metadata": {},
   "source": [
    "### Principle Component Analysis"
   ]
  },
  {
   "cell_type": "code",
   "execution_count": 68,
   "id": "edeadd19",
   "metadata": {},
   "outputs": [],
   "source": [
    "import numpy as np\n",
    "from sklearn.preprocessing import StandardScaler"
   ]
  }
 ],
 "metadata": {
  "kernelspec": {
   "display_name": "Python 3 (ipykernel)",
   "language": "python",
   "name": "python3"
  },
  "language_info": {
   "codemirror_mode": {
    "name": "ipython",
    "version": 3
   },
   "file_extension": ".py",
   "mimetype": "text/x-python",
   "name": "python",
   "nbconvert_exporter": "python",
   "pygments_lexer": "ipython3",
   "version": "3.11.5"
  }
 },
 "nbformat": 4,
 "nbformat_minor": 5
}
