{
 "cells": [
  {
   "cell_type": "code",
   "execution_count": 66,
   "id": "0d819218",
   "metadata": {},
   "outputs": [],
   "source": [
    "import math\n",
    "from pprint import pprint"
   ]
  },
  {
   "cell_type": "code",
   "execution_count": null,
   "id": "e2b960ff",
   "metadata": {},
   "outputs": [],
   "source": [
    "# downloading iris dataset\n",
    "! curl -o ../data/iris.data https://archive.ics.uci.edu/ml/machine-learning-databases/iris/iris.data"
   ]
  },
  {
   "cell_type": "code",
   "execution_count": 21,
   "id": "281b0678",
   "metadata": {},
   "outputs": [],
   "source": [
    "# dataset for loading dataset\n",
    "def load_dataset(path):\n",
    "    dataset = {\n",
    "        \"x\" : [],\n",
    "        \"y\" : []\n",
    "    }\n",
    "    with open(path) as file_in:\n",
    "        for line in file_in:\n",
    "            line = line.split(\",\")\n",
    "            x = list(map(float, line[0:-1]))\n",
    "            y = line[-1].rstrip('.\\n')\n",
    "            if y:\n",
    "                dataset[\"x\"].append(x)\n",
    "                dataset[\"y\"].append(y)\n",
    "    return dataset\n",
    "\n",
    "# Loading the dataset\n",
    "iris = load_dataset(\"../data/iris.data\")"
   ]
  },
  {
   "cell_type": "code",
   "execution_count": 22,
   "id": "7804007a",
   "metadata": {},
   "outputs": [
    {
     "name": "stdout",
     "output_type": "stream",
     "text": [
      "{'x': [[5.1, 3.5, 1.4, 0.2],\n",
      "       [4.9, 3.0, 1.4, 0.2],\n",
      "       [4.7, 3.2, 1.3, 0.2],\n",
      "       [4.6, 3.1, 1.5, 0.2],\n",
      "       [5.0, 3.6, 1.4, 0.2],\n",
      "       [5.4, 3.9, 1.7, 0.4],\n",
      "       [4.6, 3.4, 1.4, 0.3],\n",
      "       [5.0, 3.4, 1.5, 0.2],\n",
      "       [4.4, 2.9, 1.4, 0.2],\n",
      "       [4.9, 3.1, 1.5, 0.1],\n",
      "       [5.4, 3.7, 1.5, 0.2],\n",
      "       [4.8, 3.4, 1.6, 0.2],\n",
      "       [4.8, 3.0, 1.4, 0.1],\n",
      "       [4.3, 3.0, 1.1, 0.1],\n",
      "       [5.8, 4.0, 1.2, 0.2],\n",
      "       [5.7, 4.4, 1.5, 0.4],\n",
      "       [5.4, 3.9, 1.3, 0.4],\n",
      "       [5.1, 3.5, 1.4, 0.3],\n",
      "       [5.7, 3.8, 1.7, 0.3],\n",
      "       [5.1, 3.8, 1.5, 0.3],\n",
      "       [5.4, 3.4, 1.7, 0.2],\n",
      "       [5.1, 3.7, 1.5, 0.4],\n",
      "       [4.6, 3.6, 1.0, 0.2],\n",
      "       [5.1, 3.3, 1.7, 0.5],\n",
      "       [4.8, 3.4, 1.9, 0.2],\n",
      "       [5.0, 3.0, 1.6, 0.2],\n",
      "       [5.0, 3.4, 1.6, 0.4],\n",
      "       [5.2, 3.5, 1.5, 0.2],\n",
      "       [5.2, 3.4, 1.4, 0.2],\n",
      "       [4.7, 3.2, 1.6, 0.2],\n",
      "       [4.8, 3.1, 1.6, 0.2],\n",
      "       [5.4, 3.4, 1.5, 0.4],\n",
      "       [5.2, 4.1, 1.5, 0.1],\n",
      "       [5.5, 4.2, 1.4, 0.2],\n",
      "       [4.9, 3.1, 1.5, 0.1],\n",
      "       [5.0, 3.2, 1.2, 0.2],\n",
      "       [5.5, 3.5, 1.3, 0.2],\n",
      "       [4.9, 3.1, 1.5, 0.1],\n",
      "       [4.4, 3.0, 1.3, 0.2],\n",
      "       [5.1, 3.4, 1.5, 0.2],\n",
      "       [5.0, 3.5, 1.3, 0.3],\n",
      "       [4.5, 2.3, 1.3, 0.3],\n",
      "       [4.4, 3.2, 1.3, 0.2],\n",
      "       [5.0, 3.5, 1.6, 0.6],\n",
      "       [5.1, 3.8, 1.9, 0.4],\n",
      "       [4.8, 3.0, 1.4, 0.3],\n",
      "       [5.1, 3.8, 1.6, 0.2],\n",
      "       [4.6, 3.2, 1.4, 0.2],\n",
      "       [5.3, 3.7, 1.5, 0.2],\n",
      "       [5.0, 3.3, 1.4, 0.2],\n",
      "       [7.0, 3.2, 4.7, 1.4],\n",
      "       [6.4, 3.2, 4.5, 1.5],\n",
      "       [6.9, 3.1, 4.9, 1.5],\n",
      "       [5.5, 2.3, 4.0, 1.3],\n",
      "       [6.5, 2.8, 4.6, 1.5],\n",
      "       [5.7, 2.8, 4.5, 1.3],\n",
      "       [6.3, 3.3, 4.7, 1.6],\n",
      "       [4.9, 2.4, 3.3, 1.0],\n",
      "       [6.6, 2.9, 4.6, 1.3],\n",
      "       [5.2, 2.7, 3.9, 1.4],\n",
      "       [5.0, 2.0, 3.5, 1.0],\n",
      "       [5.9, 3.0, 4.2, 1.5],\n",
      "       [6.0, 2.2, 4.0, 1.0],\n",
      "       [6.1, 2.9, 4.7, 1.4],\n",
      "       [5.6, 2.9, 3.6, 1.3],\n",
      "       [6.7, 3.1, 4.4, 1.4],\n",
      "       [5.6, 3.0, 4.5, 1.5],\n",
      "       [5.8, 2.7, 4.1, 1.0],\n",
      "       [6.2, 2.2, 4.5, 1.5],\n",
      "       [5.6, 2.5, 3.9, 1.1],\n",
      "       [5.9, 3.2, 4.8, 1.8],\n",
      "       [6.1, 2.8, 4.0, 1.3],\n",
      "       [6.3, 2.5, 4.9, 1.5],\n",
      "       [6.1, 2.8, 4.7, 1.2],\n",
      "       [6.4, 2.9, 4.3, 1.3],\n",
      "       [6.6, 3.0, 4.4, 1.4],\n",
      "       [6.8, 2.8, 4.8, 1.4],\n",
      "       [6.7, 3.0, 5.0, 1.7],\n",
      "       [6.0, 2.9, 4.5, 1.5],\n",
      "       [5.7, 2.6, 3.5, 1.0],\n",
      "       [5.5, 2.4, 3.8, 1.1],\n",
      "       [5.5, 2.4, 3.7, 1.0],\n",
      "       [5.8, 2.7, 3.9, 1.2],\n",
      "       [6.0, 2.7, 5.1, 1.6],\n",
      "       [5.4, 3.0, 4.5, 1.5],\n",
      "       [6.0, 3.4, 4.5, 1.6],\n",
      "       [6.7, 3.1, 4.7, 1.5],\n",
      "       [6.3, 2.3, 4.4, 1.3],\n",
      "       [5.6, 3.0, 4.1, 1.3],\n",
      "       [5.5, 2.5, 4.0, 1.3],\n",
      "       [5.5, 2.6, 4.4, 1.2],\n",
      "       [6.1, 3.0, 4.6, 1.4],\n",
      "       [5.8, 2.6, 4.0, 1.2],\n",
      "       [5.0, 2.3, 3.3, 1.0],\n",
      "       [5.6, 2.7, 4.2, 1.3],\n",
      "       [5.7, 3.0, 4.2, 1.2],\n",
      "       [5.7, 2.9, 4.2, 1.3],\n",
      "       [6.2, 2.9, 4.3, 1.3],\n",
      "       [5.1, 2.5, 3.0, 1.1],\n",
      "       [5.7, 2.8, 4.1, 1.3],\n",
      "       [6.3, 3.3, 6.0, 2.5],\n",
      "       [5.8, 2.7, 5.1, 1.9],\n",
      "       [7.1, 3.0, 5.9, 2.1],\n",
      "       [6.3, 2.9, 5.6, 1.8],\n",
      "       [6.5, 3.0, 5.8, 2.2],\n",
      "       [7.6, 3.0, 6.6, 2.1],\n",
      "       [4.9, 2.5, 4.5, 1.7],\n",
      "       [7.3, 2.9, 6.3, 1.8],\n",
      "       [6.7, 2.5, 5.8, 1.8],\n",
      "       [7.2, 3.6, 6.1, 2.5],\n",
      "       [6.5, 3.2, 5.1, 2.0],\n",
      "       [6.4, 2.7, 5.3, 1.9],\n",
      "       [6.8, 3.0, 5.5, 2.1],\n",
      "       [5.7, 2.5, 5.0, 2.0],\n",
      "       [5.8, 2.8, 5.1, 2.4],\n",
      "       [6.4, 3.2, 5.3, 2.3],\n",
      "       [6.5, 3.0, 5.5, 1.8],\n",
      "       [7.7, 3.8, 6.7, 2.2],\n",
      "       [7.7, 2.6, 6.9, 2.3],\n",
      "       [6.0, 2.2, 5.0, 1.5],\n",
      "       [6.9, 3.2, 5.7, 2.3],\n",
      "       [5.6, 2.8, 4.9, 2.0],\n",
      "       [7.7, 2.8, 6.7, 2.0],\n",
      "       [6.3, 2.7, 4.9, 1.8],\n",
      "       [6.7, 3.3, 5.7, 2.1],\n",
      "       [7.2, 3.2, 6.0, 1.8],\n",
      "       [6.2, 2.8, 4.8, 1.8],\n",
      "       [6.1, 3.0, 4.9, 1.8],\n",
      "       [6.4, 2.8, 5.6, 2.1],\n",
      "       [7.2, 3.0, 5.8, 1.6],\n",
      "       [7.4, 2.8, 6.1, 1.9],\n",
      "       [7.9, 3.8, 6.4, 2.0],\n",
      "       [6.4, 2.8, 5.6, 2.2],\n",
      "       [6.3, 2.8, 5.1, 1.5],\n",
      "       [6.1, 2.6, 5.6, 1.4],\n",
      "       [7.7, 3.0, 6.1, 2.3],\n",
      "       [6.3, 3.4, 5.6, 2.4],\n",
      "       [6.4, 3.1, 5.5, 1.8],\n",
      "       [6.0, 3.0, 4.8, 1.8],\n",
      "       [6.9, 3.1, 5.4, 2.1],\n",
      "       [6.7, 3.1, 5.6, 2.4],\n",
      "       [6.9, 3.1, 5.1, 2.3],\n",
      "       [5.8, 2.7, 5.1, 1.9],\n",
      "       [6.8, 3.2, 5.9, 2.3],\n",
      "       [6.7, 3.3, 5.7, 2.5],\n",
      "       [6.7, 3.0, 5.2, 2.3],\n",
      "       [6.3, 2.5, 5.0, 1.9],\n",
      "       [6.5, 3.0, 5.2, 2.0],\n",
      "       [6.2, 3.4, 5.4, 2.3],\n",
      "       [5.9, 3.0, 5.1, 1.8]],\n",
      " 'y': ['Iris-setosa',\n",
      "       'Iris-setosa',\n",
      "       'Iris-setosa',\n",
      "       'Iris-setosa',\n",
      "       'Iris-setosa',\n",
      "       'Iris-setosa',\n",
      "       'Iris-setosa',\n",
      "       'Iris-setosa',\n",
      "       'Iris-setosa',\n",
      "       'Iris-setosa',\n",
      "       'Iris-setosa',\n",
      "       'Iris-setosa',\n",
      "       'Iris-setosa',\n",
      "       'Iris-setosa',\n",
      "       'Iris-setosa',\n",
      "       'Iris-setosa',\n",
      "       'Iris-setosa',\n",
      "       'Iris-setosa',\n",
      "       'Iris-setosa',\n",
      "       'Iris-setosa',\n",
      "       'Iris-setosa',\n",
      "       'Iris-setosa',\n",
      "       'Iris-setosa',\n",
      "       'Iris-setosa',\n",
      "       'Iris-setosa',\n",
      "       'Iris-setosa',\n",
      "       'Iris-setosa',\n",
      "       'Iris-setosa',\n",
      "       'Iris-setosa',\n",
      "       'Iris-setosa',\n",
      "       'Iris-setosa',\n",
      "       'Iris-setosa',\n",
      "       'Iris-setosa',\n",
      "       'Iris-setosa',\n",
      "       'Iris-setosa',\n",
      "       'Iris-setosa',\n",
      "       'Iris-setosa',\n",
      "       'Iris-setosa',\n",
      "       'Iris-setosa',\n",
      "       'Iris-setosa',\n",
      "       'Iris-setosa',\n",
      "       'Iris-setosa',\n",
      "       'Iris-setosa',\n",
      "       'Iris-setosa',\n",
      "       'Iris-setosa',\n",
      "       'Iris-setosa',\n",
      "       'Iris-setosa',\n",
      "       'Iris-setosa',\n",
      "       'Iris-setosa',\n",
      "       'Iris-setosa',\n",
      "       'Iris-versicolor',\n",
      "       'Iris-versicolor',\n",
      "       'Iris-versicolor',\n",
      "       'Iris-versicolor',\n",
      "       'Iris-versicolor',\n",
      "       'Iris-versicolor',\n",
      "       'Iris-versicolor',\n",
      "       'Iris-versicolor',\n",
      "       'Iris-versicolor',\n",
      "       'Iris-versicolor',\n",
      "       'Iris-versicolor',\n",
      "       'Iris-versicolor',\n",
      "       'Iris-versicolor',\n",
      "       'Iris-versicolor',\n",
      "       'Iris-versicolor',\n",
      "       'Iris-versicolor',\n",
      "       'Iris-versicolor',\n",
      "       'Iris-versicolor',\n",
      "       'Iris-versicolor',\n",
      "       'Iris-versicolor',\n",
      "       'Iris-versicolor',\n",
      "       'Iris-versicolor',\n",
      "       'Iris-versicolor',\n",
      "       'Iris-versicolor',\n",
      "       'Iris-versicolor',\n",
      "       'Iris-versicolor',\n",
      "       'Iris-versicolor',\n",
      "       'Iris-versicolor',\n",
      "       'Iris-versicolor',\n",
      "       'Iris-versicolor',\n",
      "       'Iris-versicolor',\n",
      "       'Iris-versicolor',\n",
      "       'Iris-versicolor',\n",
      "       'Iris-versicolor',\n",
      "       'Iris-versicolor',\n",
      "       'Iris-versicolor',\n",
      "       'Iris-versicolor',\n",
      "       'Iris-versicolor',\n",
      "       'Iris-versicolor',\n",
      "       'Iris-versicolor',\n",
      "       'Iris-versicolor',\n",
      "       'Iris-versicolor',\n",
      "       'Iris-versicolor',\n",
      "       'Iris-versicolor',\n",
      "       'Iris-versicolor',\n",
      "       'Iris-versicolor',\n",
      "       'Iris-versicolor',\n",
      "       'Iris-versicolor',\n",
      "       'Iris-versicolor',\n",
      "       'Iris-versicolor',\n",
      "       'Iris-virginica',\n",
      "       'Iris-virginica',\n",
      "       'Iris-virginica',\n",
      "       'Iris-virginica',\n",
      "       'Iris-virginica',\n",
      "       'Iris-virginica',\n",
      "       'Iris-virginica',\n",
      "       'Iris-virginica',\n",
      "       'Iris-virginica',\n",
      "       'Iris-virginica',\n",
      "       'Iris-virginica',\n",
      "       'Iris-virginica',\n",
      "       'Iris-virginica',\n",
      "       'Iris-virginica',\n",
      "       'Iris-virginica',\n",
      "       'Iris-virginica',\n",
      "       'Iris-virginica',\n",
      "       'Iris-virginica',\n",
      "       'Iris-virginica',\n",
      "       'Iris-virginica',\n",
      "       'Iris-virginica',\n",
      "       'Iris-virginica',\n",
      "       'Iris-virginica',\n",
      "       'Iris-virginica',\n",
      "       'Iris-virginica',\n",
      "       'Iris-virginica',\n",
      "       'Iris-virginica',\n",
      "       'Iris-virginica',\n",
      "       'Iris-virginica',\n",
      "       'Iris-virginica',\n",
      "       'Iris-virginica',\n",
      "       'Iris-virginica',\n",
      "       'Iris-virginica',\n",
      "       'Iris-virginica',\n",
      "       'Iris-virginica',\n",
      "       'Iris-virginica',\n",
      "       'Iris-virginica',\n",
      "       'Iris-virginica',\n",
      "       'Iris-virginica',\n",
      "       'Iris-virginica',\n",
      "       'Iris-virginica',\n",
      "       'Iris-virginica',\n",
      "       'Iris-virginica',\n",
      "       'Iris-virginica',\n",
      "       'Iris-virginica',\n",
      "       'Iris-virginica',\n",
      "       'Iris-virginica',\n",
      "       'Iris-virginica',\n",
      "       'Iris-virginica',\n",
      "       'Iris-virginica']}\n"
     ]
    }
   ],
   "source": [
    "pprint(iris)"
   ]
  },
  {
   "cell_type": "code",
   "execution_count": 23,
   "id": "83abe304",
   "metadata": {},
   "outputs": [],
   "source": [
    "# each column represents a feature\n",
    "# [rows, n_features] -> [n_features, rows], for feasibility we can transpose the matrix\n",
    "def transpose(matrix):\n",
    "    transposed = []\n",
    "    rows = len(matrix)\n",
    "    cols = len(matrix[0])\n",
    "    for icol in range(cols):\n",
    "        feature = []\n",
    "        for irow in range(rows):\n",
    "            ifeature = matrix[irow][icol]\n",
    "            feature.append(ifeature)\n",
    "        transposed.append(feature)\n",
    "    return transposed "
   ]
  },
  {
   "cell_type": "code",
   "execution_count": 24,
   "id": "30e9ead9",
   "metadata": {},
   "outputs": [],
   "source": [
    "# transforming into row representation\n",
    "iris[\"x_transpose\"] = transpose(iris[\"x\"])\n",
    "\n",
    "assert len(iris[\"x_transpose\"]) == len(iris[\"x\"][0])\n",
    "assert len(iris[\"x_transpose\"][0]) == len(iris[\"x\"])"
   ]
  },
  {
   "cell_type": "code",
   "execution_count": 25,
   "id": "24a88ca0",
   "metadata": {},
   "outputs": [
    {
     "name": "stdout",
     "output_type": "stream",
     "text": [
      "dict_keys(['x', 'y', 'x_transpose'])\n"
     ]
    }
   ],
   "source": [
    "print(iris.keys())"
   ]
  },
  {
   "cell_type": "code",
   "execution_count": 26,
   "id": "8a0705f0",
   "metadata": {},
   "outputs": [
    {
     "name": "stdout",
     "output_type": "stream",
     "text": [
      "Mean of [f1]: 5.84\n",
      "Median of [f1]: 5.8\n",
      "\n",
      "Mean of [f2]: 3.05\n",
      "Median of [f2]: 3.0\n",
      "\n",
      "Mean of [f3]: 3.76\n",
      "Median of [f3]: 4.35\n",
      "\n",
      "Mean of [f4]: 1.2\n",
      "Median of [f4]: 1.3\n",
      "\n"
     ]
    }
   ],
   "source": [
    "def mean(rv):\n",
    "    \"\"\"\n",
    "    Given a random variable, \n",
    "    return the mean of the random variable\n",
    "    \"\"\"\n",
    "    return round(sum(rv) / len(rv), 2)\n",
    "\n",
    "def median(rv):\n",
    "    \"\"\"\n",
    "    Much more robust when we have outliers in our dataset.\n",
    "    \"\"\"\n",
    "    sorted_rv = sorted(rv)\n",
    "    length = len(sorted_rv)\n",
    "    isEven = True if length % 2 == 0 else False\n",
    "    if isEven:\n",
    "        i, j = length // 2, (length // 2) - 1\n",
    "        return mean([sorted_rv[i], sorted_rv[j]])\n",
    "    else:\n",
    "        return sorted_rv[length // 2]\n",
    "\n",
    "for ifeature, feature in enumerate(iris[\"x_transpose\"]):\n",
    "    print(f\"Mean of [f{ifeature + 1}]: {mean(feature)}\")\n",
    "    print(f\"Median of [f{ifeature + 1}]: {median(feature)}\")\n",
    "    print()"
   ]
  },
  {
   "cell_type": "code",
   "execution_count": 27,
   "id": "7ff9cfc5",
   "metadata": {},
   "outputs": [
    {
     "name": "stdout",
     "output_type": "stream",
     "text": [
      "Standard deviation of [f1]: 0.83\n",
      "Standard deviation of [f2]: 0.43\n",
      "Standard deviation of [f3]: 1.76\n",
      "Standard deviation of [f4]: 0.76\n"
     ]
    }
   ],
   "source": [
    "def variance(rv, use_bessels_correction=False):\n",
    "    \"\"\"\n",
    "    Given a sample drawn from a population, returns the variance (optionally corrected by Bessel's correction).\n",
    "    \"\"\"\n",
    "    m = mean(rv)\n",
    "    n = len(rv)\n",
    "    \n",
    "    if use_bessels_correction:\n",
    "        var = sum(((ix - m) ** 2) / (n - 1) for ix in rv)\n",
    "    else:\n",
    "        var = sum(((ix - m) ** 2) / n for ix in rv)\n",
    "    \n",
    "    return var\n",
    "\n",
    "def standard_deviation(rv, use_bessels_correction=False):\n",
    "    \"\"\"\n",
    "    Assumes the sample is drawn from a population, hence denominator is (n - 1),\n",
    "    popularly known as Bessel's correction.\n",
    "    \"\"\"\n",
    "    var = variance(rv, use_bessels_correction)\n",
    "    return round(var ** 0.5, 2)\n",
    "\n",
    "for ifeature, feature in enumerate(iris[\"x_transpose\"]):\n",
    "    print(f\"Standard deviation of [f{ifeature + 1}]: {standard_deviation(feature)}\")"
   ]
  },
  {
   "cell_type": "code",
   "execution_count": 31,
   "id": "b05ec309",
   "metadata": {},
   "outputs": [
    {
     "name": "stdout",
     "output_type": "stream",
     "text": [
      "Spearman correlation f1-f1: 1.0000404682143909\n",
      "Spearman correlation f1-f2: -0.15947352547334984\n",
      "Spearman correlation f1-f3: 0.881483738153585\n",
      "Spearman correlation f1-f4: 0.8345079071882848\n",
      "\n",
      "Spearman correlation f2-f1: -0.15947352547334984\n",
      "Spearman correlation f2-f2: 1.0001728480795238\n",
      "Spearman correlation f2-f3: -0.3034742418574342\n",
      "Spearman correlation f2-f4: -0.27755846076593577\n",
      "\n",
      "Spearman correlation f3-f1: 0.881483738153585\n",
      "Spearman correlation f3-f2: -0.3034742418574342\n",
      "Spearman correlation f3-f3: 1.0001804270105918\n",
      "Spearman correlation f3-f4: 0.9361667314888081\n",
      "\n",
      "Spearman correlation f4-f1: 0.8345079071882848\n",
      "Spearman correlation f4-f2: -0.27755846076593577\n",
      "Spearman correlation f4-f3: 0.9361667314888081\n",
      "Spearman correlation f4-f4: 1.000168675520337\n",
      "\n"
     ]
    }
   ],
   "source": [
    "def covariance(x, y):\n",
    "    \"\"\"\n",
    "    Given two random variable X and Y\n",
    "    returns the linear relationship\n",
    "    \"\"\"\n",
    "    mean_x, mean_y = mean(x), mean(y)\n",
    "    return (1 / len(x)) * sum([(ix - mean_x) * (iy - mean_y) for ix, iy in zip(x, y)])\n",
    "\n",
    "def pearson_correlation_coeff(x, y):\n",
    "    \"\"\"\n",
    "    Computes the pearson correlation coefficient\n",
    "    measure for two random variable\n",
    "    \"\"\"\n",
    "    covar = covariance(x, y)\n",
    "    return covar / (standard_deviation(x) * standard_deviation(y))\n",
    "\n",
    "from scipy.stats import rankdata\n",
    "def spearman_rank_correlation(x, y):\n",
    "    \"\"\"\n",
    "    Computes spearman rank correlation coefficient\n",
    "    \"\"\"\n",
    "    rank_x, rank_y = rankdata(x), rankdata(y)\n",
    "    return pearson_correlation_coeff(rank_x, rank_y)\n",
    "\n",
    "\n",
    "\n",
    "for ifeature1, f1 in enumerate(iris[\"x_transpose\"]):\n",
    "    for ifeature2, f2 in enumerate(iris[\"x_transpose\"]):\n",
    "        spearman_corr = spearman_rank_correlation(f1, f2)\n",
    "        print(f\"Spearman correlation f{ifeature1 + 1}-f{ifeature2 + 1}: {spearman_corr}\")\n",
    "    print()"
   ]
  },
  {
   "cell_type": "code",
   "execution_count": 36,
   "id": "29cf18e1",
   "metadata": {},
   "outputs": [
    {
     "name": "stdout",
     "output_type": "stream",
     "text": [
      "Quantiles: f1 :[5.1, 5.8, 6.4]\n",
      "Quantiles: f2 :[2.8, 3.0, 3.3]\n",
      "Quantiles: f3 :[1.6, 4.35, 5.1]\n",
      "Quantiles: f4 :[0.3, 1.3, 1.8]\n"
     ]
    }
   ],
   "source": [
    "def quantile(rv, q = 0.25):\n",
    "    sorted_rv = sorted(rv)\n",
    "    length = len(sorted_rv) - 1\n",
    "    \n",
    "    index = length * q\n",
    "    if index.is_integer():\n",
    "        return sorted_rv[int(index)]\n",
    "    else:\n",
    "        low, high = math.floor(index), math.ceil(index)\n",
    "        \n",
    "        lower_value = sorted_rv[low]\n",
    "        upper_value = sorted_rv[high]\n",
    "        \n",
    "        return round(lower_value + (index - low) * (upper_value - lower_value), 2)\n",
    "    \n",
    "\n",
    "for ifeature, feature in enumerate(iris[\"x_transpose\"]):\n",
    "    q1 = quantile(feature, 0.25)\n",
    "    q2 = quantile(feature, 0.50)    \n",
    "    q3 = quantile(feature, 0.75)    \n",
    "    print(f\"Quantiles: f{ifeature + 1} :{[q1, q2, q3]}\")\n",
    "    "
   ]
  },
  {
   "cell_type": "code",
   "execution_count": 62,
   "id": "0c00a3b6",
   "metadata": {},
   "outputs": [
    {
     "name": "stdout",
     "output_type": "stream",
     "text": [
      "Percentiles for feature 1: [5.1, 7.25]\n",
      "Percentiles for feature 2: [2.8, 3.8]\n",
      "Percentiles for feature 3: [1.6, 6.1]\n",
      "Percentiles for feature 4: [0.3, 2.3]\n"
     ]
    }
   ],
   "source": [
    "def percentile(arr, p):\n",
    "    sorted_arr = sorted(arr)\n",
    "    length = len(sorted_arr)\n",
    "    index = p * (length - 1)\n",
    "    # Linear interpolation\n",
    "    low, high = math.floor(index), math.ceil(index)\n",
    "    low_val, high_val = sorted_arr[low], sorted_arr[high]\n",
    "    val = low_val + (index - low) * (high_val - low_val)\n",
    "    return round(val, 2)\n",
    "            \n",
    "        \n",
    "for ifeature, feature in enumerate(iris[\"x_transpose\"]):\n",
    "    p1 = percentile(feature, 0.25)\n",
    "    p2 = percentile(feature, 0.75)    \n",
    "    p2 = percentile(feature, 0.95)    \n",
    "    print(f\"Percentiles for feature {ifeature + 1}: {[p1, p2]}\")"
   ]
  },
  {
   "cell_type": "markdown",
   "id": "a4f1cade",
   "metadata": {},
   "source": [
    "### Proportional Sampling\n",
    "\n",
    "Proportional sampling is a sampling technique where the size of each stratum sample is directly proportional to the population size of the entire population of strata. This means that each strata sample has the same sampling fraction. "
   ]
  },
  {
   "cell_type": "code",
   "execution_count": 63,
   "id": "e2c8729f",
   "metadata": {},
   "outputs": [],
   "source": [
    "from numpy.random import uniform, normal\n",
    "\n",
    "def proportional_sampling(arr, num_samples):\n",
    "    total = sum(arr)\n",
    "    normalized_arr = [a / total for a in arr]\n",
    "    \n",
    "    # computing prefix sum\n",
    "    prefix_sum = [normalized_arr[0]]\n",
    "    for num in normalized_arr[1:]:\n",
    "        prefix_sum.append(prefix_sum[-1] + num)\n",
    "        \n",
    "    samples = []\n",
    "    for i in uniform(size = num_samples):\n",
    "        for index, value in enumerate(prefix_sum):\n",
    "            if i < value:\n",
    "                samples.append(arr[index])\n",
    "                break\n",
    "    return samples"
   ]
  },
  {
   "cell_type": "code",
   "execution_count": 64,
   "id": "74f3a22d",
   "metadata": {},
   "outputs": [
    {
     "name": "stdout",
     "output_type": "stream",
     "text": [
      "Sampled using proportional sampling: [6618, 3635, 6401, 7269, 3152, 5749, 4827, 9568, 6856, 2570]\n"
     ]
    }
   ],
   "source": [
    "population = uniform(0.1, 10000, 500).astype(\"int16\")\n",
    "sampled = proportional_sampling(population, 10)\n",
    "print(\"Sampled using proportional sampling:\", sampled)"
   ]
  },
  {
   "cell_type": "markdown",
   "id": "0ed42a22",
   "metadata": {},
   "source": [
    "### Central Limit Theorem"
   ]
  },
  {
   "cell_type": "code",
   "execution_count": 67,
   "id": "2382abd1",
   "metadata": {},
   "outputs": [],
   "source": [
    "import matplotlib.pyplot as plt\n",
    "from random import choice, randint\n",
    "\n",
    "def central_limit_theorem(population, sample_size, iterations):\n",
    "    assert sample_size < len(population), \"Sample size should be smaller than the population.\"\n",
    "    sample_means = []\n",
    "    for i in range(iterations):\n",
    "        sampling_distribution = [choice(population) for sample in range(sample_size)]\n",
    "        sample_means.append(mean(sampling_distribution))\n",
    "    \n",
    "    plt.hist(sample_means, bins = 15)\n",
    "    plt.grid(True)\n",
    "    plt.show();\n",
    "    \n",
    "    return sample_means"
   ]
  },
  {
   "cell_type": "code",
   "execution_count": 76,
   "id": "33b18430",
   "metadata": {
    "scrolled": false
   },
   "outputs": [
    {
     "name": "stdout",
     "output_type": "stream",
     "text": [
      "Feature 1\n"
     ]
    },
    {
     "data": {
      "image/png": "[encoded data removed]",
      "text/plain": [
       "<Figure size 640x480 with 1 Axes>"
      ]
     },
     "metadata": {},
     "output_type": "display_data"
    },
    {
     "name": "stdout",
     "output_type": "stream",
     "text": [
      "Feature 2\n"
     ]
    },
    {
     "data": {
      "image/png": "[encoded data removed]",
      "text/plain": [
       "<Figure size 640x480 with 1 Axes>"
      ]
     },
     "metadata": {},
     "output_type": "display_data"
    },
    {
     "name": "stdout",
     "output_type": "stream",
     "text": [
      "Feature 3\n"
     ]
    },
    {
     "data": {
      "image/png": "[encoded data removed]",
      "text/plain": [
       "<Figure size 640x480 with 1 Axes>"
      ]
     },
     "metadata": {},
     "output_type": "display_data"
    },
    {
     "name": "stdout",
     "output_type": "stream",
     "text": [
      "Feature 4\n"
     ]
    },
    {
     "data": {
      "image/png": "[encoded data removed]",
      "text/plain": [
       "<Figure size 640x480 with 1 Axes>"
      ]
     },
     "metadata": {},
     "output_type": "display_data"
    }
   ],
   "source": [
    "features_sample_means = []\n",
    "for ifeature, feature in enumerate(iris[\"x_transpose\"]):\n",
    "    population = iris[\"x_transpose\"][ifeature]\n",
    "    print(\"Feature\", ifeature + 1)\n",
    "    sample_means = central_limit_theorem(population, sample_size = 100, iterations = 1000)\n",
    "    features_sample_means.append(sample_means)"
   ]
  },
  {
   "cell_type": "markdown",
   "id": "160c7198",
   "metadata": {},
   "source": [
    "### Quantile-Quantile Plot"
   ]
  },
  {
   "cell_type": "code",
   "execution_count": 77,
   "id": "eb57bd43",
   "metadata": {},
   "outputs": [],
   "source": [
    "def get_percentiles(rv):\n",
    "    length = len(rv) - 1\n",
    "    sorted_rv = sorted(rv)\n",
    "    percentiles = []\n",
    "    for i in range(1, 101):\n",
    "        index = i * length * 0.01\n",
    "        if index.is_integer():\n",
    "            percentiles.append(sorted_rv[int(index)])\n",
    "        else:\n",
    "            low, high = math.floor(index), math.ceil(index)\n",
    "            low_val, high_val = sorted_rv[low], sorted_rv[high]\n",
    "            perc_val = low_val + (index - low) * (high_val - low_val)\n",
    "            percentiles.append(perc_val)\n",
    "    return percentiles"
   ]
  },
  {
   "cell_type": "code",
   "execution_count": 78,
   "id": "86624aa0",
   "metadata": {},
   "outputs": [],
   "source": [
    "# Q: Does CLT really work?\n",
    "def QQplot(rv1, rv2):\n",
    "    x_values = get_percentiles(rv1)\n",
    "    y_values = get_percentiles(rv2)\n",
    "    \n",
    "    plt.scatter(x_values, y_values, color='blue', alpha=0.5, label='Data Points')\n",
    "    plt.grid(True)\n",
    "    plt.show();"
   ]
  },
  {
   "cell_type": "code",
   "execution_count": 80,
   "id": "9bfe65c3",
   "metadata": {
    "scrolled": false
   },
   "outputs": [
    {
     "name": "stdout",
     "output_type": "stream",
     "text": [
      "Q-Q plot with normal distribution - Feature 1\n"
     ]
    },
    {
     "data": {
      "image/png": "[encoded data removed]",
      "text/plain": [
       "<Figure size 640x480 with 1 Axes>"
      ]
     },
     "metadata": {},
     "output_type": "display_data"
    },
    {
     "name": "stdout",
     "output_type": "stream",
     "text": [
      "Q-Q plot with normal distribution - Feature 2\n"
     ]
    },
    {
     "data": {
      "image/png": "[encoded data removed]",
      "text/plain": [
       "<Figure size 640x480 with 1 Axes>"
      ]
     },
     "metadata": {},
     "output_type": "display_data"
    },
    {
     "name": "stdout",
     "output_type": "stream",
     "text": [
      "Q-Q plot with normal distribution - Feature 3\n"
     ]
    },
    {
     "data": {
      "image/png": "[encoded data removed]",
      "text/plain": [
       "<Figure size 640x480 with 1 Axes>"
      ]
     },
     "metadata": {},
     "output_type": "display_data"
    },
    {
     "name": "stdout",
     "output_type": "stream",
     "text": [
      "Q-Q plot with normal distribution - Feature 4\n"
     ]
    },
    {
     "data": {
      "image/png": "[encoded data removed]",
      "text/plain": [
       "<Figure size 640x480 with 1 Axes>"
      ]
     },
     "metadata": {},
     "output_type": "display_data"
    }
   ],
   "source": [
    "nd_samples = normal(0, 1, 1000)\n",
    "\n",
    "for index, feature_means in enumerate(features_sample_means):\n",
    "    print(\"Q-Q plot with normal distribution - Feature\", index + 1)\n",
    "    QQplot(feature_means, nd_samples)"
   ]
  },
  {
   "cell_type": "markdown",
   "id": "dbfe280b",
   "metadata": {},
   "source": [
    "This is roughly a line with 45 degree angle, so CLT definitely works!"
   ]
  },
  {
   "cell_type": "markdown",
   "id": "f239874e",
   "metadata": {},
   "source": [
    "### Confidence Intervals"
   ]
  },
  {
   "cell_type": "code",
   "execution_count": 81,
   "id": "acd469bc",
   "metadata": {},
   "outputs": [],
   "source": [
    "from scipy.stats import norm, t"
   ]
  },
  {
   "cell_type": "code",
   "execution_count": 93,
   "id": "9a952968",
   "metadata": {},
   "outputs": [],
   "source": [
    "class ConfidenceInterval:\n",
    "    \"\"\"\n",
    "    Given a sample distribution estimates the \n",
    "    mean of the population distribution. \n",
    "    \"\"\"\n",
    "    def __init__(self, C, population_std_dev = None):\n",
    "        self.C = C\n",
    "        self.alpha = 1 - C\n",
    "        self.std_dev = population_std_dev\n",
    "        \n",
    "    def estimate_mean(self, samples):\n",
    "        sample_size = len(samples)\n",
    "        sample_mean = mean(samples)\n",
    "        \n",
    "        # If population standard deviation is given then CLT will be used\n",
    "        if self.std_dev:\n",
    "            print(\"Population standard deviation is given. Estimating mean...\")\n",
    "            margin_of_error = norm.ppf(1 - self.alpha/2)\n",
    "        \n",
    "        # In-case population standard deviation is not given\n",
    "        # need to check if sample size if atleast 30\n",
    "        elif not self.std_dev:\n",
    "            self.std_dev = standard_deviation(samples)\n",
    "            # Uses t-distribution for small samples\n",
    "            if sample_size < 30:\n",
    "                print(\"Population standard deviation is not provided, using sample standard deviation...\")\n",
    "                print(\"Sample size is small, using t-distribution...\")\n",
    "                degrees_of_freedom = sample_size - 1\n",
    "                margin_of_error = t.ppf(1 - self.alpha/2, df=degrees_of_freedom)\n",
    "            else:\n",
    "                # Normal distribution works well for large samples\n",
    "                print(\"Population standard deviation is not provided, using sample standard deviation..\")\n",
    "                print(\"Margin of error will be computed from normal distribution, sample size is large..\")\n",
    "                margin_of_error = norm.ppf(1 - self.alpha/2)\n",
    "            \n",
    "            \n",
    "        # Computing the confidence interval\n",
    "        around = (margin_of_error * (self.std_dev / (sample_size) ** 0.5))\n",
    "        lower_bound = sample_mean - around\n",
    "        upper_bound = sample_mean + around\n",
    "        return {\n",
    "            \"confidence\" : f\"{self.C * 100}%\",\n",
    "            \"lower_bound\" : round(lower_bound, 2),\n",
    "            \"upper_bound\" : round(upper_bound, 2)\n",
    "        }\n",
    "    \n",
    "    def estimate_mean_using_bootstrapping(self, samples, bootstrapping_sample_size = 30, iteration = 1000):\n",
    "        # Uses bootstrapping to estimate the mean\n",
    "        parameter_of_sampling_distribution = []\n",
    "        for i in range(iteration):\n",
    "            new_sample = [choice(samples) for i in range(bootstrapping_sample_size)]\n",
    "            new_sample_mean = mean(new_sample)\n",
    "            parameter_of_sampling_distribution.append(new_sample_mean)\n",
    "        \n",
    "        # computing intervals\n",
    "        low = math.floor((1 - self.C) // 2)\n",
    "        high =  math.ceil(self.C + low)\n",
    "        \n",
    "        lower_bound = percentile(parameter_of_sampling_distribution, low)\n",
    "        upper_bound = percentile(parameter_of_sampling_distribution, high)\n",
    "        \n",
    "        return {\n",
    "            \"confidence\" : f\"{self.C * 100}%\",\n",
    "            \"lower_bound\" : round(lower_bound, 2),\n",
    "            \"upper_bound\" : round(upper_bound, 2)\n",
    "        }"
   ]
  },
  {
   "cell_type": "code",
   "execution_count": 96,
   "id": "ff38a3cb",
   "metadata": {},
   "outputs": [
    {
     "name": "stdout",
     "output_type": "stream",
     "text": [
      "Population mean: 5.84\n",
      "Population std-dev 0.83\n"
     ]
    }
   ],
   "source": [
    "# Considering feature-1 only!\n",
    "population = iris[\"x_transpose\"][0]\n",
    "population_std_dev = standard_deviation(population)\n",
    "\n",
    "print(\"Population mean:\", mean(population))\n",
    "print(\"Population std-dev\", population_std_dev)"
   ]
  },
  {
   "cell_type": "code",
   "execution_count": 97,
   "id": "30ec1062",
   "metadata": {},
   "outputs": [
    {
     "name": "stdout",
     "output_type": "stream",
     "text": [
      "Population standard deviation is given. Estimating mean...\n",
      "{'confidence': '95.0%', 'lower_bound': 5.8, 'upper_bound': 6.12}\n"
     ]
    }
   ],
   "source": [
    "# CASE - 1\n",
    "# sampling 100 points from population\n",
    "samples = [choice(population) for i in range(100)]\n",
    "\n",
    "# we want to estimate the population mean using the samples\n",
    "# standard deviation is provided\n",
    "ci = ConfidenceInterval(C = 0.95, population_std_dev = population_std_dev)\n",
    "estimation_dict = ci.estimate_mean(samples, )\n",
    "\n",
    "print(estimation_dict)"
   ]
  },
  {
   "cell_type": "code",
   "execution_count": 98,
   "id": "19f214a3",
   "metadata": {},
   "outputs": [
    {
     "name": "stdout",
     "output_type": "stream",
     "text": [
      "Population standard deviation is not provided, using sample standard deviation...\n",
      "Sample size is small, using t-distribution...\n",
      "{'confidence': '95.0%', 'lower_bound': 5.37, 'upper_bound': 6.25}\n"
     ]
    }
   ],
   "source": [
    "# CASE - 2\n",
    "# sampling 20 points only! Population mean is not given\n",
    "samples = [choice(population) for i in range(20)]\n",
    "\n",
    "# we want to estimate the population mean using the samples\n",
    "# Population standard deviation will not be provided\n",
    "ci = ConfidenceInterval(C = 0.95)\n",
    "estimation_dict = ci.estimate_mean(samples)\n",
    "\n",
    "print(estimation_dict)"
   ]
  },
  {
   "cell_type": "code",
   "execution_count": 99,
   "id": "7845879d",
   "metadata": {},
   "outputs": [
    {
     "name": "stdout",
     "output_type": "stream",
     "text": [
      "{'confidence': '95.0%', 'lower_bound': 5.34, 'upper_bound': 6.35}\n"
     ]
    }
   ],
   "source": [
    "# CASE - 3\n",
    "# Empirical bootstrapping based method\n",
    "samples = [choice(population) for i in range(100)]\n",
    "\n",
    "# confidence intervals using bootstrappin\n",
    "ci = ConfidenceInterval(C = 0.95)\n",
    "estimation_dict = ci.estimate_mean_using_bootstrapping(samples, \n",
    "                                                    bootstrapping_sample_size = 35, \n",
    "                                                    iteration = 10000)\n",
    "\n",
    "print(estimation_dict)"
   ]
  }
 ],
 "metadata": {
  "kernelspec": {
   "display_name": "Python 3 (ipykernel)",
   "language": "python",
   "name": "python3"
  },
  "language_info": {
   "codemirror_mode": {
    "name": "ipython",
    "version": 3
   },
   "file_extension": ".py",
   "mimetype": "text/x-python",
   "name": "python",
   "nbconvert_exporter": "python",
   "pygments_lexer": "ipython3",
   "version": "3.11.5"
  }
 },
 "nbformat": 4,
 "nbformat_minor": 5
}
