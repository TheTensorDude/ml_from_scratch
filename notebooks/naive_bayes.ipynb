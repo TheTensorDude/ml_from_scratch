{
 "cells": [
  {
   "cell_type": "code",
   "execution_count": 1,
   "metadata": {},
   "outputs": [],
   "source": [
    "import math\n",
    "import pandas as pd \n",
    "from collections import Counter"
   ]
  },
  {
   "cell_type": "markdown",
   "metadata": {},
   "source": [
    "### Loading the dataset"
   ]
  },
  {
   "cell_type": "code",
   "execution_count": 2,
   "metadata": {},
   "outputs": [],
   "source": [
    "data_path = \"../data/spam.csv\"\n",
    "df = pd.read_csv(data_path)"
   ]
  },
  {
   "cell_type": "code",
   "execution_count": 3,
   "metadata": {},
   "outputs": [
    {
     "data": {
      "text/html": [
       "<div>\n",
       "<style scoped>\n",
       "    .dataframe tbody tr th:only-of-type {\n",
       "        vertical-align: middle;\n",
       "    }\n",
       "\n",
       "    .dataframe tbody tr th {\n",
       "        vertical-align: top;\n",
       "    }\n",
       "\n",
       "    .dataframe thead th {\n",
       "        text-align: right;\n",
       "    }\n",
       "</style>\n",
       "<table border=\"1\" class=\"dataframe\">\n",
       "  <thead>\n",
       "    <tr style=\"text-align: right;\">\n",
       "      <th></th>\n",
       "      <th>v1</th>\n",
       "      <th>v2</th>\n",
       "      <th>Unnamed: 2</th>\n",
       "      <th>Unnamed: 3</th>\n",
       "      <th>Unnamed: 4</th>\n",
       "    </tr>\n",
       "  </thead>\n",
       "  <tbody>\n",
       "    <tr>\n",
       "      <th>0</th>\n",
       "      <td>ham</td>\n",
       "      <td>Go until jurong point, crazy.. Available only ...</td>\n",
       "      <td>NaN</td>\n",
       "      <td>NaN</td>\n",
       "      <td>NaN</td>\n",
       "    </tr>\n",
       "    <tr>\n",
       "      <th>1</th>\n",
       "      <td>ham</td>\n",
       "      <td>Ok lar... Joking wif u oni...</td>\n",
       "      <td>NaN</td>\n",
       "      <td>NaN</td>\n",
       "      <td>NaN</td>\n",
       "    </tr>\n",
       "    <tr>\n",
       "      <th>2</th>\n",
       "      <td>spam</td>\n",
       "      <td>Free entry in 2 a wkly comp to win FA Cup fina...</td>\n",
       "      <td>NaN</td>\n",
       "      <td>NaN</td>\n",
       "      <td>NaN</td>\n",
       "    </tr>\n",
       "    <tr>\n",
       "      <th>3</th>\n",
       "      <td>ham</td>\n",
       "      <td>U dun say so early hor... U c already then say...</td>\n",
       "      <td>NaN</td>\n",
       "      <td>NaN</td>\n",
       "      <td>NaN</td>\n",
       "    </tr>\n",
       "    <tr>\n",
       "      <th>4</th>\n",
       "      <td>ham</td>\n",
       "      <td>Nah I don't think he goes to usf, he lives aro...</td>\n",
       "      <td>NaN</td>\n",
       "      <td>NaN</td>\n",
       "      <td>NaN</td>\n",
       "    </tr>\n",
       "  </tbody>\n",
       "</table>\n",
       "</div>"
      ],
      "text/plain": [
       "     v1                                                 v2 Unnamed: 2  \\\n",
       "0   ham  Go until jurong point, crazy.. Available only ...        NaN   \n",
       "1   ham                      Ok lar... Joking wif u oni...        NaN   \n",
       "2  spam  Free entry in 2 a wkly comp to win FA Cup fina...        NaN   \n",
       "3   ham  U dun say so early hor... U c already then say...        NaN   \n",
       "4   ham  Nah I don't think he goes to usf, he lives aro...        NaN   \n",
       "\n",
       "  Unnamed: 3 Unnamed: 4  \n",
       "0        NaN        NaN  \n",
       "1        NaN        NaN  \n",
       "2        NaN        NaN  \n",
       "3        NaN        NaN  \n",
       "4        NaN        NaN  "
      ]
     },
     "execution_count": 3,
     "metadata": {},
     "output_type": "execute_result"
    }
   ],
   "source": [
    "df.head(5)"
   ]
  },
  {
   "cell_type": "markdown",
   "metadata": {},
   "source": [
    "### Bernoulli Naive Bayes"
   ]
  },
  {
   "cell_type": "code",
   "execution_count": 4,
   "metadata": {},
   "outputs": [],
   "source": [
    "class BernoulliNB:\n",
    "    def __init__(self, num_classes, laplace_smoothing = 0.5, is_imbalance = True):\n",
    "        self.num_classes = num_classes\n",
    "        self.is_imbalance = is_imbalance\n",
    "        self.laplace_smoothing = laplace_smoothing\n",
    "        \n",
    "    def preprocess(self, X):\n",
    "        tokens = self.split_into_tokens(X)\n",
    "        tokens = map(str.lower, filter(str.isalnum, tokens))\n",
    "        return list(tokens)\n",
    "    \n",
    "    def split_into_tokens(self, sentence):\n",
    "        return sentence.split(\" \")\n",
    "        \n",
    "    def fit(self, X, y):\n",
    "        assert len(set(y)) == self.num_classes, f'{self.num_classes} do not match with the classes present in the dataset.'\n",
    "                \n",
    "        # Building the vocabulary\n",
    "        self.corpus = {}\n",
    "        self.total_records = len(y)\n",
    "        for sentence, label in zip(X, y):\n",
    "            sentence_tokens = self.preprocess(sentence)\n",
    "            if label not in self.corpus:\n",
    "                self.corpus[label] = sentence_tokens\n",
    "                continue \n",
    "            self.corpus[label].extend(sentence_tokens)          \n",
    "\n",
    "        # computing the frequecy \n",
    "        self.corpus = {k : Counter(v) for k, v in self.corpus.items()}\n",
    "        self.labelCount = Counter(y)\n",
    "    \n",
    "    def predict(self, X):\n",
    "        # preprocessing the sentence\n",
    "        X = self.preprocess(X)\n",
    "        \n",
    "        conditional_prob = {}\n",
    "        for potential_label, total in self.labelCount.items():\n",
    "            # computing log probabilities for numerical stability\n",
    "            # log(a * b) = log(a) + log(b)\n",
    "            log_prob = 1 if self.is_imbalance else math.log(self.labelCount[potential_label] / self.total_records)\n",
    "            for token in X:\n",
    "                log_prob += (self.corpus[potential_label][token] + self.laplace_smoothing)/ \\\n",
    "                    (total + (self.num_classes * self.laplace_smoothing))\n",
    "\n",
    "            conditional_prob[potential_label] =  log_prob        \n",
    "        return max(conditional_prob, key=conditional_prob.get), conditional_prob"
   ]
  },
  {
   "cell_type": "markdown",
   "metadata": {},
   "source": [
    "### Training, Hyper-parameter tuning and Validation"
   ]
  },
  {
   "cell_type": "code",
   "execution_count": 5,
   "metadata": {},
   "outputs": [],
   "source": [
    "import matplotlib.pyplot as plt\n",
    "from sklearn.metrics import accuracy_score\n",
    "from sklearn.model_selection import train_test_split"
   ]
  },
  {
   "cell_type": "code",
   "execution_count": 6,
   "metadata": {},
   "outputs": [],
   "source": [
    "X = df.v2.tolist()\n",
    "y = df['v1'].tolist()\n",
    "\n",
    "X_train, X_test, y_train, y_test = train_test_split(X, y, test_size=0.20, random_state=42, shuffle=False)"
   ]
  },
  {
   "cell_type": "code",
   "execution_count": 7,
   "metadata": {},
   "outputs": [],
   "source": [
    "performances = []\n",
    "\n",
    "alpha = list(range(1, 100, 2))\n",
    "for val in alpha:\n",
    "    nb = BernoulliNB(num_classes = 2, laplace_smoothing = val, is_imbalance = False)\n",
    "    nb.fit(X_train, y_train)\n",
    "    \n",
    "    predictions = [nb.predict(test)[0] for test in X_test]\n",
    "    perf = accuracy_score(y_test, predictions)    \n",
    "    performances.append(perf)"
   ]
  },
  {
   "cell_type": "code",
   "execution_count": 8,
   "metadata": {},
   "outputs": [
    {
     "data": {
      "image/png": "[encoded data removed]",
      "text/plain": [
       "<Figure size 640x480 with 1 Axes>"
      ]
     },
     "metadata": {},
     "output_type": "display_data"
    }
   ],
   "source": [
    "plt.plot(list(range(1, 100, 2)), performances);\n",
    "plt.grid(True);\n",
    "plt.ylabel(\"Accuracy\");\n",
    "plt.xlabel(\"Lable smoothing val (alpha)\");"
   ]
  },
  {
   "cell_type": "markdown",
   "metadata": {},
   "source": [
    "### Best Model"
   ]
  },
  {
   "cell_type": "code",
   "execution_count": 21,
   "metadata": {},
   "outputs": [],
   "source": [
    "main_nb = BernoulliNB(num_classes = 2, laplace_smoothing = 18, is_imbalance = False)\n",
    "main_nb.fit(X_train, y_train)"
   ]
  },
  {
   "cell_type": "code",
   "execution_count": 22,
   "metadata": {},
   "outputs": [
    {
     "name": "stdout",
     "output_type": "stream",
     "text": [
      "Accuracy: 0.9273542600896861\n"
     ]
    }
   ],
   "source": [
    "predictions = [main_nb.predict(test)[0] for test in X_test]\n",
    "perf = accuracy_score(y_test, predictions)    \n",
    "print(\"Accuracy:\", perf)"
   ]
  },
  {
   "cell_type": "code",
   "execution_count": 26,
   "metadata": {},
   "outputs": [
    {
     "name": "stdout",
     "output_type": "stream",
     "text": [
      "Prediction: spam\n"
     ]
    }
   ],
   "source": [
    "message = \"\"\"Welcome to UK-mobile-date this msg is FREE giving you free calling to 08719839835. \n",
    "            Future mgs billed at 150p daily. To cancel send \\\\go stop\\\\\" to 89123\"\"\"\n",
    "\n",
    "label, _ = main_nb.predict(message)\n",
    "print(\"Prediction:\", label)"
   ]
  }
 ],
 "metadata": {
  "kernelspec": {
   "display_name": "ai",
   "language": "python",
   "name": "python3"
  },
  "language_info": {
   "codemirror_mode": {
    "name": "ipython",
    "version": 3
   },
   "file_extension": ".py",
   "mimetype": "text/x-python",
   "name": "python",
   "nbconvert_exporter": "python",
   "pygments_lexer": "ipython3",
   "version": "3.8.18"
  }
 },
 "nbformat": 4,
 "nbformat_minor": 2
}
